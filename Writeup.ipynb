{
 "cells": [
  {
   "cell_type": "code",
   "execution_count": 2,
   "metadata": {},
   "outputs": [],
   "source": [
    "from the_office.data import do_all_data_loading\n",
    "from the_office.eda import get_dialogue, line_search\n",
    "from the_office.transform import (filter_cast,\n",
    "                                  get_cast_by_scene,\n",
    "                                  shared_scene_matrix)\n",
    "from the_office.viz import pairwise_scene_plot"
   ]
  },
  {
   "cell_type": "markdown",
   "metadata": {},
   "source": [
    "# Intro"
   ]
  },
  {
   "cell_type": "markdown",
   "metadata": {},
   "source": [
    "Blah, blah, blah. We struck gold and found a pretty sweet dataset that had every line of dialogue from The Office.\n",
    "\n",
    "A bunch of cleaning later, it generally looks like this:"
   ]
  },
  {
   "cell_type": "code",
   "execution_count": 4,
   "metadata": {},
   "outputs": [
    {
     "data": {
      "text/html": [
       "<div>\n",
       "<style scoped>\n",
       "    .dataframe tbody tr th:only-of-type {\n",
       "        vertical-align: middle;\n",
       "    }\n",
       "\n",
       "    .dataframe tbody tr th {\n",
       "        vertical-align: top;\n",
       "    }\n",
       "\n",
       "    .dataframe thead th {\n",
       "        text-align: right;\n",
       "    }\n",
       "</style>\n",
       "<table border=\"1\" class=\"dataframe\">\n",
       "  <thead>\n",
       "    <tr style=\"text-align: right;\">\n",
       "      <th></th>\n",
       "      <th>id</th>\n",
       "      <th>season</th>\n",
       "      <th>episode</th>\n",
       "      <th>scene</th>\n",
       "      <th>line_text</th>\n",
       "      <th>speaker</th>\n",
       "    </tr>\n",
       "  </thead>\n",
       "  <tbody>\n",
       "    <tr>\n",
       "      <th>0</th>\n",
       "      <td>1</td>\n",
       "      <td>1</td>\n",
       "      <td>1</td>\n",
       "      <td>1</td>\n",
       "      <td>All right Jim. Your quarterlies look very good...</td>\n",
       "      <td>michael</td>\n",
       "    </tr>\n",
       "    <tr>\n",
       "      <th>1</th>\n",
       "      <td>2</td>\n",
       "      <td>1</td>\n",
       "      <td>1</td>\n",
       "      <td>1</td>\n",
       "      <td>Oh, I told you. I couldn't close it. So...</td>\n",
       "      <td>jim</td>\n",
       "    </tr>\n",
       "    <tr>\n",
       "      <th>2</th>\n",
       "      <td>3</td>\n",
       "      <td>1</td>\n",
       "      <td>1</td>\n",
       "      <td>1</td>\n",
       "      <td>So you've come to the master for guidance? Is ...</td>\n",
       "      <td>michael</td>\n",
       "    </tr>\n",
       "    <tr>\n",
       "      <th>3</th>\n",
       "      <td>4</td>\n",
       "      <td>1</td>\n",
       "      <td>1</td>\n",
       "      <td>1</td>\n",
       "      <td>Actually, you called me in here, but yeah.</td>\n",
       "      <td>jim</td>\n",
       "    </tr>\n",
       "    <tr>\n",
       "      <th>4</th>\n",
       "      <td>5</td>\n",
       "      <td>1</td>\n",
       "      <td>1</td>\n",
       "      <td>1</td>\n",
       "      <td>All right. Well, let me show you how it's done.</td>\n",
       "      <td>michael</td>\n",
       "    </tr>\n",
       "  </tbody>\n",
       "</table>\n",
       "</div>"
      ],
      "text/plain": [
       "   id  season  episode  scene  \\\n",
       "0   1       1        1      1   \n",
       "1   2       1        1      1   \n",
       "2   3       1        1      1   \n",
       "3   4       1        1      1   \n",
       "4   5       1        1      1   \n",
       "\n",
       "                                           line_text  speaker  \n",
       "0  All right Jim. Your quarterlies look very good...  michael  \n",
       "1         Oh, I told you. I couldn't close it. So...      jim  \n",
       "2  So you've come to the master for guidance? Is ...  michael  \n",
       "3         Actually, you called me in here, but yeah.      jim  \n",
       "4    All right. Well, let me show you how it's done.  michael  "
      ]
     },
     "execution_count": 4,
     "metadata": {},
     "output_type": "execute_result"
    }
   ],
   "source": [
    "df = do_all_data_loading()\n",
    "df.head()"
   ]
  },
  {
   "cell_type": "markdown",
   "metadata": {},
   "source": [
    "Where each row represents a line of dialogue, labeled by when it happened in the script and who spoke it."
   ]
  },
  {
   "cell_type": "markdown",
   "metadata": {},
   "source": [
    "With the help of some simple text-parsing methods, we can better investigate this file for classic lines from the show."
   ]
  },
  {
   "cell_type": "code",
   "execution_count": 6,
   "metadata": {},
   "outputs": [
    {
     "data": {
      "text/html": [
       "<div>\n",
       "<style scoped>\n",
       "    .dataframe tbody tr th:only-of-type {\n",
       "        vertical-align: middle;\n",
       "    }\n",
       "\n",
       "    .dataframe tbody tr th {\n",
       "        vertical-align: top;\n",
       "    }\n",
       "\n",
       "    .dataframe thead th {\n",
       "        text-align: right;\n",
       "    }\n",
       "</style>\n",
       "<table border=\"1\" class=\"dataframe\">\n",
       "  <thead>\n",
       "    <tr style=\"text-align: right;\">\n",
       "      <th></th>\n",
       "      <th>id</th>\n",
       "      <th>season</th>\n",
       "      <th>episode</th>\n",
       "      <th>scene</th>\n",
       "      <th>line_text</th>\n",
       "      <th>speaker</th>\n",
       "    </tr>\n",
       "  </thead>\n",
       "  <tbody>\n",
       "    <tr>\n",
       "      <th>13409</th>\n",
       "      <td>15346</td>\n",
       "      <td>3</td>\n",
       "      <td>20</td>\n",
       "      <td>1</td>\n",
       "      <td>Fact.  Bears eat beets.  Bears.  Beets.  Battl...</td>\n",
       "      <td>jim</td>\n",
       "    </tr>\n",
       "  </tbody>\n",
       "</table>\n",
       "</div>"
      ],
      "text/plain": [
       "          id  season  episode  scene  \\\n",
       "13409  15346       3       20      1   \n",
       "\n",
       "                                               line_text speaker  \n",
       "13409  Fact.  Bears eat beets.  Bears.  Beets.  Battl...     jim  "
      ]
     },
     "execution_count": 6,
     "metadata": {},
     "output_type": "execute_result"
    }
   ],
   "source": [
    "line_search(df, 'bears. beets. battlestar galactica')"
   ]
  },
  {
   "cell_type": "markdown",
   "metadata": {},
   "source": [
    "And filter down to the rows of data around them"
   ]
  },
  {
   "cell_type": "code",
   "execution_count": 23,
   "metadata": {},
   "outputs": [
    {
     "data": {
      "text/html": [
       "<div>\n",
       "<style scoped>\n",
       "    .dataframe tbody tr th:only-of-type {\n",
       "        vertical-align: middle;\n",
       "    }\n",
       "\n",
       "    .dataframe tbody tr th {\n",
       "        vertical-align: top;\n",
       "    }\n",
       "\n",
       "    .dataframe thead th {\n",
       "        text-align: right;\n",
       "    }\n",
       "</style>\n",
       "<table border=\"1\" class=\"dataframe\">\n",
       "  <thead>\n",
       "    <tr style=\"text-align: right;\">\n",
       "      <th></th>\n",
       "      <th>id</th>\n",
       "      <th>season</th>\n",
       "      <th>episode</th>\n",
       "      <th>scene</th>\n",
       "      <th>line_text</th>\n",
       "      <th>speaker</th>\n",
       "    </tr>\n",
       "  </thead>\n",
       "  <tbody>\n",
       "    <tr>\n",
       "      <th>13405</th>\n",
       "      <td>15342</td>\n",
       "      <td>3</td>\n",
       "      <td>20</td>\n",
       "      <td>1</td>\n",
       "      <td>[Dressed as Dwight] It's kind of blurry. [puts...</td>\n",
       "      <td>jim</td>\n",
       "    </tr>\n",
       "    <tr>\n",
       "      <th>13406</th>\n",
       "      <td>15343</td>\n",
       "      <td>3</td>\n",
       "      <td>20</td>\n",
       "      <td>1</td>\n",
       "      <td>That's a ridiculous question.</td>\n",
       "      <td>dwight</td>\n",
       "    </tr>\n",
       "    <tr>\n",
       "      <th>13407</th>\n",
       "      <td>15344</td>\n",
       "      <td>3</td>\n",
       "      <td>20</td>\n",
       "      <td>1</td>\n",
       "      <td>False.  Black bear.</td>\n",
       "      <td>jim</td>\n",
       "    </tr>\n",
       "    <tr>\n",
       "      <th>13408</th>\n",
       "      <td>15345</td>\n",
       "      <td>3</td>\n",
       "      <td>20</td>\n",
       "      <td>1</td>\n",
       "      <td>Well that's debatable.  There are basically tw...</td>\n",
       "      <td>dwight</td>\n",
       "    </tr>\n",
       "    <tr>\n",
       "      <th>13409</th>\n",
       "      <td>15346</td>\n",
       "      <td>3</td>\n",
       "      <td>20</td>\n",
       "      <td>1</td>\n",
       "      <td>Fact.  Bears eat beets.  Bears.  Beets.  Battl...</td>\n",
       "      <td>jim</td>\n",
       "    </tr>\n",
       "    <tr>\n",
       "      <th>13410</th>\n",
       "      <td>15347</td>\n",
       "      <td>3</td>\n",
       "      <td>20</td>\n",
       "      <td>1</td>\n",
       "      <td>Bears do not--- What is going on--- What are y...</td>\n",
       "      <td>dwight</td>\n",
       "    </tr>\n",
       "    <tr>\n",
       "      <th>13411</th>\n",
       "      <td>15348</td>\n",
       "      <td>3</td>\n",
       "      <td>20</td>\n",
       "      <td>2</td>\n",
       "      <td>Last week, I was in a drug store and I saw the...</td>\n",
       "      <td>jim</td>\n",
       "    </tr>\n",
       "    <tr>\n",
       "      <th>13412</th>\n",
       "      <td>15349</td>\n",
       "      <td>3</td>\n",
       "      <td>20</td>\n",
       "      <td>3</td>\n",
       "      <td>You know what?  Imitation is the most sincere ...</td>\n",
       "      <td>dwight</td>\n",
       "    </tr>\n",
       "    <tr>\n",
       "      <th>13413</th>\n",
       "      <td>15350</td>\n",
       "      <td>3</td>\n",
       "      <td>20</td>\n",
       "      <td>3</td>\n",
       "      <td>... MICHAEL!</td>\n",
       "      <td>jim</td>\n",
       "    </tr>\n",
       "    <tr>\n",
       "      <th>13414</th>\n",
       "      <td>15351</td>\n",
       "      <td>3</td>\n",
       "      <td>20</td>\n",
       "      <td>3</td>\n",
       "      <td>Oh, that's funny.  MICHAEL!</td>\n",
       "      <td>dwight</td>\n",
       "    </tr>\n",
       "  </tbody>\n",
       "</table>\n",
       "</div>"
      ],
      "text/plain": [
       "          id  season  episode  scene  \\\n",
       "13405  15342       3       20      1   \n",
       "13406  15343       3       20      1   \n",
       "13407  15344       3       20      1   \n",
       "13408  15345       3       20      1   \n",
       "13409  15346       3       20      1   \n",
       "13410  15347       3       20      1   \n",
       "13411  15348       3       20      2   \n",
       "13412  15349       3       20      3   \n",
       "13413  15350       3       20      3   \n",
       "13414  15351       3       20      3   \n",
       "\n",
       "                                               line_text speaker  \n",
       "13405  [Dressed as Dwight] It's kind of blurry. [puts...     jim  \n",
       "13406                      That's a ridiculous question.  dwight  \n",
       "13407                                False.  Black bear.     jim  \n",
       "13408  Well that's debatable.  There are basically tw...  dwight  \n",
       "13409  Fact.  Bears eat beets.  Bears.  Beets.  Battl...     jim  \n",
       "13410  Bears do not--- What is going on--- What are y...  dwight  \n",
       "13411  Last week, I was in a drug store and I saw the...     jim  \n",
       "13412  You know what?  Imitation is the most sincere ...  dwight  \n",
       "13413                                       ... MICHAEL!     jim  \n",
       "13414                        Oh, that's funny.  MICHAEL!  dwight  "
      ]
     },
     "execution_count": 23,
     "metadata": {},
     "output_type": "execute_result"
    }
   ],
   "source": [
    "bbbg = get_dialogue(df, season=3, episode=20, scenes=[1, 4])\n",
    "bbbg"
   ]
  },
  {
   "cell_type": "markdown",
   "metadata": {},
   "source": [
    "And print them for your captioning-convenience"
   ]
  },
  {
   "cell_type": "code",
   "execution_count": 24,
   "metadata": {},
   "outputs": [
    {
     "name": "stdout",
     "output_type": "stream",
     "text": [
      "jim :\n",
      " [Dressed as Dwight] It's kind of blurry. [puts on his glasses] That's better. [exhales] Question.  What kind of bear is best?\n",
      "dwight :\n",
      " That's a ridiculous question.\n",
      "jim :\n",
      " False.  Black bear.\n",
      "dwight :\n",
      " Well that's debatable.  There are basically two schools of thought---\n",
      "jim :\n",
      " Fact.  Bears eat beets.  Bears.  Beets.  Battlestar Galactica.\n",
      "dwight :\n",
      " Bears do not--- What is going on--- What are you doing?!\n",
      "jim :\n",
      " Last week, I was in a drug store and I saw these glasses.  Uh, four dollars.  And it only cost me seven dollars to recreate the rest of the ensemble.  And that's a grand total of... [Jim calculates the total on his calculator-watch] eleven dollars.\n",
      "dwight :\n",
      " You know what?  Imitation is the most sincere form of flattery, so I thank you. [Jim places a bobble-head on his desk]  Identity theft is not a joke, Jim!  Millions of families suffer every year!\n",
      "jim :\n",
      " ... MICHAEL!\n",
      "dwight :\n",
      " Oh, that's funny.  MICHAEL!\n"
     ]
    }
   ],
   "source": [
    "for idx, row in bbbg.iterrows():\n",
    "    *_, quote, speaker = row\n",
    "    print(speaker, ':\\n', quote)"
   ]
  },
  {
   "cell_type": "markdown",
   "metadata": {},
   "source": [
    "{% youtube WaaANll8h18 %}"
   ]
  },
  {
   "cell_type": "markdown",
   "metadata": {},
   "source": [
    "All of the source code for this post can be found at https://github.com/napsterinblue/the-office-lines"
   ]
  }
 ],
 "metadata": {
  "kernelspec": {
   "display_name": "Python 3",
   "language": "python",
   "name": "python3"
  },
  "language_info": {
   "codemirror_mode": {
    "name": "ipython",
    "version": 3
   },
   "file_extension": ".py",
   "mimetype": "text/x-python",
   "name": "python",
   "nbconvert_exporter": "python",
   "pygments_lexer": "ipython3",
   "version": "3.6.3"
  }
 },
 "nbformat": 4,
 "nbformat_minor": 2
}
