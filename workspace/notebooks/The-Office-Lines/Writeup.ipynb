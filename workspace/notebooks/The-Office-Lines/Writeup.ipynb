{
 "cells": [
  {
   "cell_type": "code",
   "execution_count": 1,
   "metadata": {},
   "outputs": [],
   "source": [
    "import pandas as pd\n",
    "\n",
    "from IPython.display import Image\n",
    "from IPython.display import YouTubeVideo\n",
    "\n",
    "# Utility Code in this Repo\n",
    "from the_office.data import do_all_data_loading\n",
    "from the_office.eda import (get_dialogue, line_search,\n",
    "                            a_spoke_after_b)\n",
    "from the_office.transform import (filter_cast,\n",
    "                                  get_cast_by_scene,\n",
    "                                  shared_scene_matrix,\n",
    "                                  extract_corpus)\n",
    "from the_office.viz import pairwise_scene_plot"
   ]
  },
  {
   "cell_type": "markdown",
   "metadata": {},
   "source": [
    "# Intro"
   ]
  },
  {
   "cell_type": "markdown",
   "metadata": {},
   "source": [
    "<!-- PELICAN_BEGIN_SUMMARY -->\n",
    "The Office has been one of my all-time favorite shows since I caught the *\"Michael Scott's Dunder Mifflin Scranton Meredith Palmer Memorial Celebrity Rabies Awareness Pro-Am Fun Run Race for the Cure\"* episode back in 2007. It's absurdly quotable, it's lousy with memorable characters, and it's got one of the best finales I've seen of any show.\n",
    "\n",
    "So imagine my delight when I stumble across a dataset cataloguing every single line of dialogue across its 9 seasons. I had to do a bit of data cleaning before I started tinkering around with it (GitHub link below), but ultimately it came out looking like this:"
   ]
  },
  {
   "cell_type": "code",
   "execution_count": 2,
   "metadata": {},
   "outputs": [
    {
     "data": {
      "text/html": [
       "<div>\n",
       "<style scoped>\n",
       "    .dataframe tbody tr th:only-of-type {\n",
       "        vertical-align: middle;\n",
       "    }\n",
       "\n",
       "    .dataframe tbody tr th {\n",
       "        vertical-align: top;\n",
       "    }\n",
       "\n",
       "    .dataframe thead th {\n",
       "        text-align: right;\n",
       "    }\n",
       "</style>\n",
       "<table border=\"1\" class=\"dataframe\">\n",
       "  <thead>\n",
       "    <tr style=\"text-align: right;\">\n",
       "      <th></th>\n",
       "      <th>id</th>\n",
       "      <th>season</th>\n",
       "      <th>episode</th>\n",
       "      <th>scene</th>\n",
       "      <th>line_text</th>\n",
       "      <th>speaker</th>\n",
       "    </tr>\n",
       "  </thead>\n",
       "  <tbody>\n",
       "    <tr>\n",
       "      <th>0</th>\n",
       "      <td>1</td>\n",
       "      <td>1</td>\n",
       "      <td>1</td>\n",
       "      <td>1</td>\n",
       "      <td>All right Jim. Your quarterlies look very good...</td>\n",
       "      <td>michael</td>\n",
       "    </tr>\n",
       "    <tr>\n",
       "      <th>1</th>\n",
       "      <td>2</td>\n",
       "      <td>1</td>\n",
       "      <td>1</td>\n",
       "      <td>1</td>\n",
       "      <td>Oh, I told you. I couldn't close it. So...</td>\n",
       "      <td>jim</td>\n",
       "    </tr>\n",
       "    <tr>\n",
       "      <th>2</th>\n",
       "      <td>3</td>\n",
       "      <td>1</td>\n",
       "      <td>1</td>\n",
       "      <td>1</td>\n",
       "      <td>So you've come to the master for guidance? Is ...</td>\n",
       "      <td>michael</td>\n",
       "    </tr>\n",
       "    <tr>\n",
       "      <th>3</th>\n",
       "      <td>4</td>\n",
       "      <td>1</td>\n",
       "      <td>1</td>\n",
       "      <td>1</td>\n",
       "      <td>Actually, you called me in here, but yeah.</td>\n",
       "      <td>jim</td>\n",
       "    </tr>\n",
       "    <tr>\n",
       "      <th>4</th>\n",
       "      <td>5</td>\n",
       "      <td>1</td>\n",
       "      <td>1</td>\n",
       "      <td>1</td>\n",
       "      <td>All right. Well, let me show you how it's done.</td>\n",
       "      <td>michael</td>\n",
       "    </tr>\n",
       "  </tbody>\n",
       "</table>\n",
       "</div>"
      ],
      "text/plain": [
       "   id  season  episode  scene  \\\n",
       "0   1       1        1      1   \n",
       "1   2       1        1      1   \n",
       "2   3       1        1      1   \n",
       "3   4       1        1      1   \n",
       "4   5       1        1      1   \n",
       "\n",
       "                                           line_text  speaker  \n",
       "0  All right Jim. Your quarterlies look very good...  michael  \n",
       "1         Oh, I told you. I couldn't close it. So...      jim  \n",
       "2  So you've come to the master for guidance? Is ...  michael  \n",
       "3         Actually, you called me in here, but yeah.      jim  \n",
       "4    All right. Well, let me show you how it's done.  michael  "
      ]
     },
     "execution_count": 2,
     "metadata": {},
     "output_type": "execute_result"
    }
   ],
   "source": [
    "df = do_all_data_loading()\n",
    "df.head()"
   ]
  },
  {
   "cell_type": "markdown",
   "metadata": {},
   "source": [
    "Where each row represents a line of dialogue, labeled by when it happened in the script and who spoke it."
   ]
  },
  {
   "cell_type": "markdown",
   "metadata": {},
   "source": [
    "With the help of some simple text-parsing methods, we can better investigate this file for classic lines from the show."
   ]
  },
  {
   "cell_type": "code",
   "execution_count": 3,
   "metadata": {},
   "outputs": [
    {
     "data": {
      "text/html": [
       "<div>\n",
       "<style scoped>\n",
       "    .dataframe tbody tr th:only-of-type {\n",
       "        vertical-align: middle;\n",
       "    }\n",
       "\n",
       "    .dataframe tbody tr th {\n",
       "        vertical-align: top;\n",
       "    }\n",
       "\n",
       "    .dataframe thead th {\n",
       "        text-align: right;\n",
       "    }\n",
       "</style>\n",
       "<table border=\"1\" class=\"dataframe\">\n",
       "  <thead>\n",
       "    <tr style=\"text-align: right;\">\n",
       "      <th></th>\n",
       "      <th>id</th>\n",
       "      <th>season</th>\n",
       "      <th>episode</th>\n",
       "      <th>scene</th>\n",
       "      <th>line_text</th>\n",
       "      <th>speaker</th>\n",
       "    </tr>\n",
       "  </thead>\n",
       "  <tbody>\n",
       "    <tr>\n",
       "      <th>13409</th>\n",
       "      <td>15346</td>\n",
       "      <td>3</td>\n",
       "      <td>20</td>\n",
       "      <td>1</td>\n",
       "      <td>Fact.  Bears eat beets.  Bears.  Beets.  Battl...</td>\n",
       "      <td>jim</td>\n",
       "    </tr>\n",
       "  </tbody>\n",
       "</table>\n",
       "</div>"
      ],
      "text/plain": [
       "          id  season  episode  scene  \\\n",
       "13409  15346       3       20      1   \n",
       "\n",
       "                                               line_text speaker  \n",
       "13409  Fact.  Bears eat beets.  Bears.  Beets.  Battl...     jim  "
      ]
     },
     "execution_count": 3,
     "metadata": {},
     "output_type": "execute_result"
    }
   ],
   "source": [
    "line_search(df, 'bears. beets. battlestar galactica')"
   ]
  },
  {
   "cell_type": "markdown",
   "metadata": {},
   "source": [
    "<!-- PELICAN_END_SUMMARY -->"
   ]
  },
  {
   "cell_type": "markdown",
   "metadata": {},
   "source": [
    "And filter down to the rows of data around them"
   ]
  },
  {
   "cell_type": "code",
   "execution_count": 4,
   "metadata": {},
   "outputs": [
    {
     "data": {
      "text/html": [
       "<div>\n",
       "<style scoped>\n",
       "    .dataframe tbody tr th:only-of-type {\n",
       "        vertical-align: middle;\n",
       "    }\n",
       "\n",
       "    .dataframe tbody tr th {\n",
       "        vertical-align: top;\n",
       "    }\n",
       "\n",
       "    .dataframe thead th {\n",
       "        text-align: right;\n",
       "    }\n",
       "</style>\n",
       "<table border=\"1\" class=\"dataframe\">\n",
       "  <thead>\n",
       "    <tr style=\"text-align: right;\">\n",
       "      <th></th>\n",
       "      <th>id</th>\n",
       "      <th>season</th>\n",
       "      <th>episode</th>\n",
       "      <th>scene</th>\n",
       "      <th>line_text</th>\n",
       "      <th>speaker</th>\n",
       "    </tr>\n",
       "  </thead>\n",
       "  <tbody>\n",
       "    <tr>\n",
       "      <th>13405</th>\n",
       "      <td>15342</td>\n",
       "      <td>3</td>\n",
       "      <td>20</td>\n",
       "      <td>1</td>\n",
       "      <td>[Dressed as Dwight] It's kind of blurry. [puts...</td>\n",
       "      <td>jim</td>\n",
       "    </tr>\n",
       "    <tr>\n",
       "      <th>13406</th>\n",
       "      <td>15343</td>\n",
       "      <td>3</td>\n",
       "      <td>20</td>\n",
       "      <td>1</td>\n",
       "      <td>That's a ridiculous question.</td>\n",
       "      <td>dwight</td>\n",
       "    </tr>\n",
       "    <tr>\n",
       "      <th>13407</th>\n",
       "      <td>15344</td>\n",
       "      <td>3</td>\n",
       "      <td>20</td>\n",
       "      <td>1</td>\n",
       "      <td>False.  Black bear.</td>\n",
       "      <td>jim</td>\n",
       "    </tr>\n",
       "    <tr>\n",
       "      <th>13408</th>\n",
       "      <td>15345</td>\n",
       "      <td>3</td>\n",
       "      <td>20</td>\n",
       "      <td>1</td>\n",
       "      <td>Well that's debatable.  There are basically tw...</td>\n",
       "      <td>dwight</td>\n",
       "    </tr>\n",
       "    <tr>\n",
       "      <th>13409</th>\n",
       "      <td>15346</td>\n",
       "      <td>3</td>\n",
       "      <td>20</td>\n",
       "      <td>1</td>\n",
       "      <td>Fact.  Bears eat beets.  Bears.  Beets.  Battl...</td>\n",
       "      <td>jim</td>\n",
       "    </tr>\n",
       "    <tr>\n",
       "      <th>13410</th>\n",
       "      <td>15347</td>\n",
       "      <td>3</td>\n",
       "      <td>20</td>\n",
       "      <td>1</td>\n",
       "      <td>Bears do not--- What is going on--- What are y...</td>\n",
       "      <td>dwight</td>\n",
       "    </tr>\n",
       "    <tr>\n",
       "      <th>13411</th>\n",
       "      <td>15348</td>\n",
       "      <td>3</td>\n",
       "      <td>20</td>\n",
       "      <td>2</td>\n",
       "      <td>Last week, I was in a drug store and I saw the...</td>\n",
       "      <td>jim</td>\n",
       "    </tr>\n",
       "    <tr>\n",
       "      <th>13412</th>\n",
       "      <td>15349</td>\n",
       "      <td>3</td>\n",
       "      <td>20</td>\n",
       "      <td>3</td>\n",
       "      <td>You know what?  Imitation is the most sincere ...</td>\n",
       "      <td>dwight</td>\n",
       "    </tr>\n",
       "    <tr>\n",
       "      <th>13413</th>\n",
       "      <td>15350</td>\n",
       "      <td>3</td>\n",
       "      <td>20</td>\n",
       "      <td>3</td>\n",
       "      <td>... MICHAEL!</td>\n",
       "      <td>jim</td>\n",
       "    </tr>\n",
       "    <tr>\n",
       "      <th>13414</th>\n",
       "      <td>15351</td>\n",
       "      <td>3</td>\n",
       "      <td>20</td>\n",
       "      <td>3</td>\n",
       "      <td>Oh, that's funny.  MICHAEL!</td>\n",
       "      <td>dwight</td>\n",
       "    </tr>\n",
       "  </tbody>\n",
       "</table>\n",
       "</div>"
      ],
      "text/plain": [
       "          id  season  episode  scene  \\\n",
       "13405  15342       3       20      1   \n",
       "13406  15343       3       20      1   \n",
       "13407  15344       3       20      1   \n",
       "13408  15345       3       20      1   \n",
       "13409  15346       3       20      1   \n",
       "13410  15347       3       20      1   \n",
       "13411  15348       3       20      2   \n",
       "13412  15349       3       20      3   \n",
       "13413  15350       3       20      3   \n",
       "13414  15351       3       20      3   \n",
       "\n",
       "                                               line_text speaker  \n",
       "13405  [Dressed as Dwight] It's kind of blurry. [puts...     jim  \n",
       "13406                      That's a ridiculous question.  dwight  \n",
       "13407                                False.  Black bear.     jim  \n",
       "13408  Well that's debatable.  There are basically tw...  dwight  \n",
       "13409  Fact.  Bears eat beets.  Bears.  Beets.  Battl...     jim  \n",
       "13410  Bears do not--- What is going on--- What are y...  dwight  \n",
       "13411  Last week, I was in a drug store and I saw the...     jim  \n",
       "13412  You know what?  Imitation is the most sincere ...  dwight  \n",
       "13413                                       ... MICHAEL!     jim  \n",
       "13414                        Oh, that's funny.  MICHAEL!  dwight  "
      ]
     },
     "execution_count": 4,
     "metadata": {},
     "output_type": "execute_result"
    }
   ],
   "source": [
    "bbbg = get_dialogue(df, season=3, episode=20, scenes=[1, 4])\n",
    "bbbg"
   ]
  },
  {
   "cell_type": "markdown",
   "metadata": {},
   "source": [
    "And print them for your captioning-convenience"
   ]
  },
  {
   "cell_type": "code",
   "execution_count": 5,
   "metadata": {},
   "outputs": [
    {
     "name": "stdout",
     "output_type": "stream",
     "text": [
      "jim :\n",
      " [Dressed as Dwight] It's kind of blurry. [puts on his glasses] That's better. [exhales] Question.  What kind of bear is best?\n",
      "dwight :\n",
      " That's a ridiculous question.\n",
      "jim :\n",
      " False.  Black bear.\n",
      "dwight :\n",
      " Well that's debatable.  There are basically two schools of thought---\n",
      "jim :\n",
      " Fact.  Bears eat beets.  Bears.  Beets.  Battlestar Galactica.\n",
      "dwight :\n",
      " Bears do not--- What is going on--- What are you doing?!\n",
      "jim :\n",
      " Last week, I was in a drug store and I saw these glasses.  Uh, four dollars.  And it only cost me seven dollars to recreate the rest of the ensemble.  And that's a grand total of... [Jim calculates the total on his calculator-watch] eleven dollars.\n",
      "dwight :\n",
      " You know what?  Imitation is the most sincere form of flattery, so I thank you. [Jim places a bobble-head on his desk]  Identity theft is not a joke, Jim!  Millions of families suffer every year!\n",
      "jim :\n",
      " ... MICHAEL!\n",
      "dwight :\n",
      " Oh, that's funny.  MICHAEL!\n"
     ]
    }
   ],
   "source": [
    "for idx, row in bbbg.iterrows():\n",
    "    *_, quote, speaker = row\n",
    "    print(speaker, ':\\n', quote)"
   ]
  },
  {
   "cell_type": "code",
   "execution_count": 6,
   "metadata": {},
   "outputs": [
    {
     "data": {
      "image/jpeg": "[encoded data removed]",
      "text/html": [
       "\n",
       "        <iframe\n",
       "            width=\"500\"\n",
       "            height=\"300\"\n",
       "            src=\"https://www.youtube.com/embed/WaaANll8h18\"\n",
       "            frameborder=\"0\"\n",
       "            allowfullscreen\n",
       "        ></iframe>\n",
       "        "
      ],
      "text/plain": [
       "<IPython.lib.display.YouTubeVideo at 0x134ba400>"
      ]
     },
     "execution_count": 6,
     "metadata": {},
     "output_type": "execute_result"
    }
   ],
   "source": [
    "YouTubeVideo(id='WaaANll8h18', width=500)"
   ]
  },
  {
   "cell_type": "markdown",
   "metadata": {},
   "source": [
    "Awesome."
   ]
  },
  {
   "cell_type": "markdown",
   "metadata": {},
   "source": [
    "# Looking at Text"
   ]
  },
  {
   "cell_type": "markdown",
   "metadata": {},
   "source": [
    "## Words"
   ]
  },
  {
   "cell_type": "markdown",
   "metadata": {},
   "source": [
    "Given that the show aired on NBC, it's a safe bet that hard searching for F-Bombs and other usual suspects will be fruitless. However, if we instead do a search for asterisks, as it would show up in the script, we can get to the bottom of who's got the foulest mouth at Dunder-Mifflin."
   ]
  },
  {
   "cell_type": "code",
   "execution_count": 7,
   "metadata": {
    "scrolled": true
   },
   "outputs": [
    {
     "data": {
      "text/plain": [
       "kevin       2\n",
       "michael     2\n",
       "jo          1\n",
       "pam         1\n",
       "brandon     1\n",
       "toby        1\n",
       "robert      1\n",
       "oscar       1\n",
       "ryan        1\n",
       "deangelo    1\n",
       "kelly       1\n",
       "andy        1\n",
       "phyllis     1\n",
       "darryl      1\n",
       "Name: speaker, dtype: int64"
      ]
     },
     "execution_count": 7,
     "metadata": {},
     "output_type": "execute_result"
    }
   ],
   "source": [
    "profanity = line_search(df, '\\*')\n",
    "profanity['speaker'].value_counts()"
   ]
  },
  {
   "cell_type": "markdown",
   "metadata": {},
   "source": [
    "By the by, I'd highly encourage looking these up-- this show makes excellent use of the censor bleep, IMO"
   ]
  },
  {
   "cell_type": "code",
   "execution_count": 8,
   "metadata": {},
   "outputs": [
    {
     "data": {
      "text/html": [
       "<div>\n",
       "<style scoped>\n",
       "    .dataframe tbody tr th:only-of-type {\n",
       "        vertical-align: middle;\n",
       "    }\n",
       "\n",
       "    .dataframe tbody tr th {\n",
       "        vertical-align: top;\n",
       "    }\n",
       "\n",
       "    .dataframe thead th {\n",
       "        text-align: right;\n",
       "    }\n",
       "</style>\n",
       "<table border=\"1\" class=\"dataframe\">\n",
       "  <thead>\n",
       "    <tr style=\"text-align: right;\">\n",
       "      <th></th>\n",
       "      <th>id</th>\n",
       "      <th>season</th>\n",
       "      <th>episode</th>\n",
       "      <th>scene</th>\n",
       "      <th>line_text</th>\n",
       "      <th>speaker</th>\n",
       "    </tr>\n",
       "  </thead>\n",
       "  <tbody>\n",
       "    <tr>\n",
       "      <th>7662</th>\n",
       "      <td>9564</td>\n",
       "      <td>3</td>\n",
       "      <td>1</td>\n",
       "      <td>31</td>\n",
       "      <td>I watch the L Word.  I watch, Queer as F***, s...</td>\n",
       "      <td>michael</td>\n",
       "    </tr>\n",
       "    <tr>\n",
       "      <th>11959</th>\n",
       "      <td>13896</td>\n",
       "      <td>3</td>\n",
       "      <td>15</td>\n",
       "      <td>25</td>\n",
       "      <td>This is bull****!</td>\n",
       "      <td>michael</td>\n",
       "    </tr>\n",
       "    <tr>\n",
       "      <th>16147</th>\n",
       "      <td>18084</td>\n",
       "      <td>4</td>\n",
       "      <td>2</td>\n",
       "      <td>68</td>\n",
       "      <td>[pointing] Um... [camera reveals that 'RYAN' i...</td>\n",
       "      <td>oscar</td>\n",
       "    </tr>\n",
       "    <tr>\n",
       "      <th>28409</th>\n",
       "      <td>30346</td>\n",
       "      <td>5</td>\n",
       "      <td>25</td>\n",
       "      <td>21</td>\n",
       "      <td>Oh! Mother ******!</td>\n",
       "      <td>phyllis</td>\n",
       "    </tr>\n",
       "    <tr>\n",
       "      <th>29304</th>\n",
       "      <td>31241</td>\n",
       "      <td>6</td>\n",
       "      <td>2</td>\n",
       "      <td>18</td>\n",
       "      <td>I can't believe this. [mistaking Darryl's sist...</td>\n",
       "      <td>toby</td>\n",
       "    </tr>\n",
       "    <tr>\n",
       "      <th>29361</th>\n",
       "      <td>31298</td>\n",
       "      <td>6</td>\n",
       "      <td>2</td>\n",
       "      <td>26</td>\n",
       "      <td>You come to my house, bust up my trash cans, c...</td>\n",
       "      <td>darryl</td>\n",
       "    </tr>\n",
       "    <tr>\n",
       "      <th>41753</th>\n",
       "      <td>43690</td>\n",
       "      <td>7</td>\n",
       "      <td>18</td>\n",
       "      <td>15</td>\n",
       "      <td>My mom makes the best pesto in the world. And ...</td>\n",
       "      <td>ryan</td>\n",
       "    </tr>\n",
       "    <tr>\n",
       "      <th>41815</th>\n",
       "      <td>43752</td>\n",
       "      <td>7</td>\n",
       "      <td>18</td>\n",
       "      <td>25</td>\n",
       "      <td>Holy s*** is that real?</td>\n",
       "      <td>pam</td>\n",
       "    </tr>\n",
       "    <tr>\n",
       "      <th>42672</th>\n",
       "      <td>44609</td>\n",
       "      <td>7</td>\n",
       "      <td>21</td>\n",
       "      <td>34</td>\n",
       "      <td>Gimme that damn dog you f***ing thief! Don't e...</td>\n",
       "      <td>deangelo</td>\n",
       "    </tr>\n",
       "    <tr>\n",
       "      <th>43460</th>\n",
       "      <td>45397</td>\n",
       "      <td>7</td>\n",
       "      <td>24</td>\n",
       "      <td>43</td>\n",
       "      <td>I don't have any, assh***.</td>\n",
       "      <td>kelly</td>\n",
       "    </tr>\n",
       "    <tr>\n",
       "      <th>43621</th>\n",
       "      <td>45558</td>\n",
       "      <td>7</td>\n",
       "      <td>24</td>\n",
       "      <td>58</td>\n",
       "      <td>That's f***ing crazy. [Jo and Dwight both smil...</td>\n",
       "      <td>jo</td>\n",
       "    </tr>\n",
       "    <tr>\n",
       "      <th>44116</th>\n",
       "      <td>46053</td>\n",
       "      <td>8</td>\n",
       "      <td>2</td>\n",
       "      <td>8</td>\n",
       "      <td>Wait, I thought she was a **** and you *******...</td>\n",
       "      <td>kevin</td>\n",
       "    </tr>\n",
       "    <tr>\n",
       "      <th>44995</th>\n",
       "      <td>46932</td>\n",
       "      <td>8</td>\n",
       "      <td>5</td>\n",
       "      <td>15</td>\n",
       "      <td>I just got a text from Broccoli Rob - 'Boo!' S...</td>\n",
       "      <td>andy</td>\n",
       "    </tr>\n",
       "    <tr>\n",
       "      <th>48436</th>\n",
       "      <td>50373</td>\n",
       "      <td>8</td>\n",
       "      <td>16</td>\n",
       "      <td>22</td>\n",
       "      <td>Must be doing real good since you're f***ing m...</td>\n",
       "      <td>brandon</td>\n",
       "    </tr>\n",
       "    <tr>\n",
       "      <th>48438</th>\n",
       "      <td>50375</td>\n",
       "      <td>8</td>\n",
       "      <td>16</td>\n",
       "      <td>22</td>\n",
       "      <td>Dude, you didn't tell me you were f***ing Val....</td>\n",
       "      <td>kevin</td>\n",
       "    </tr>\n",
       "    <tr>\n",
       "      <th>50548</th>\n",
       "      <td>52485</td>\n",
       "      <td>8</td>\n",
       "      <td>23</td>\n",
       "      <td>35</td>\n",
       "      <td>Ah, well, I will not be blackmailed by some in...</td>\n",
       "      <td>robert</td>\n",
       "    </tr>\n",
       "  </tbody>\n",
       "</table>\n",
       "</div>"
      ],
      "text/plain": [
       "          id  season  episode  scene  \\\n",
       "7662    9564       3        1     31   \n",
       "11959  13896       3       15     25   \n",
       "16147  18084       4        2     68   \n",
       "28409  30346       5       25     21   \n",
       "29304  31241       6        2     18   \n",
       "29361  31298       6        2     26   \n",
       "41753  43690       7       18     15   \n",
       "41815  43752       7       18     25   \n",
       "42672  44609       7       21     34   \n",
       "43460  45397       7       24     43   \n",
       "43621  45558       7       24     58   \n",
       "44116  46053       8        2      8   \n",
       "44995  46932       8        5     15   \n",
       "48436  50373       8       16     22   \n",
       "48438  50375       8       16     22   \n",
       "50548  52485       8       23     35   \n",
       "\n",
       "                                               line_text   speaker  \n",
       "7662   I watch the L Word.  I watch, Queer as F***, s...   michael  \n",
       "11959                                  This is bull****!   michael  \n",
       "16147  [pointing] Um... [camera reveals that 'RYAN' i...     oscar  \n",
       "28409                                 Oh! Mother ******!   phyllis  \n",
       "29304  I can't believe this. [mistaking Darryl's sist...      toby  \n",
       "29361  You come to my house, bust up my trash cans, c...    darryl  \n",
       "41753  My mom makes the best pesto in the world. And ...      ryan  \n",
       "41815                            Holy s*** is that real?       pam  \n",
       "42672  Gimme that damn dog you f***ing thief! Don't e...  deangelo  \n",
       "43460                         I don't have any, assh***.     kelly  \n",
       "43621  That's f***ing crazy. [Jo and Dwight both smil...        jo  \n",
       "44116  Wait, I thought she was a **** and you *******...     kevin  \n",
       "44995  I just got a text from Broccoli Rob - 'Boo!' S...      andy  \n",
       "48436  Must be doing real good since you're f***ing m...   brandon  \n",
       "48438  Dude, you didn't tell me you were f***ing Val....     kevin  \n",
       "50548  Ah, well, I will not be blackmailed by some in...    robert  "
      ]
     },
     "execution_count": 8,
     "metadata": {},
     "output_type": "execute_result"
    }
   ],
   "source": [
    "profanity"
   ]
  },
  {
   "cell_type": "markdown",
   "metadata": {},
   "source": [
    "But for specific words also yielded some surprising results.\n",
    "\n",
    "For instance, that Meredith is, curiously, only the sixth-highest user of the word \"Drink\""
   ]
  },
  {
   "cell_type": "code",
   "execution_count": 9,
   "metadata": {
    "scrolled": true
   },
   "outputs": [
    {
     "data": {
      "text/plain": [
       "michael     38\n",
       "dwight      22\n",
       "jim         19\n",
       "pam         12\n",
       "andy        10\n",
       "meredith     9\n",
       "Name: speaker, dtype: int64"
      ]
     },
     "execution_count": 9,
     "metadata": {},
     "output_type": "execute_result"
    }
   ],
   "source": [
    "line_search(df, 'drink')['speaker'].value_counts().head(6)"
   ]
  },
  {
   "cell_type": "code",
   "execution_count": 10,
   "metadata": {},
   "outputs": [
    {
     "data": {
      "image/jpeg": "[encoded data removed]",
      "text/plain": [
       "<IPython.core.display.Image object>"
      ]
     },
     "execution_count": 10,
     "metadata": {},
     "output_type": "execute_result"
    }
   ],
   "source": [
    "Image('images/meredith.jpg')"
   ]
  },
  {
   "cell_type": "markdown",
   "metadata": {},
   "source": [
    "Or that Michael spends as much time putting his foot in his mouth about gay culture as the only gay character spends talking about it."
   ]
  },
  {
   "cell_type": "code",
   "execution_count": 11,
   "metadata": {
    "scrolled": false
   },
   "outputs": [
    {
     "data": {
      "text/plain": [
       "michael    31\n",
       "oscar      31\n",
       "dwight     17\n",
       "andy       15\n",
       "pam         8\n",
       "Name: speaker, dtype: int64"
      ]
     },
     "execution_count": 11,
     "metadata": {},
     "output_type": "execute_result"
    }
   ],
   "source": [
    "line_search(df, 'gay')['speaker'].value_counts().head()"
   ]
  },
  {
   "cell_type": "markdown",
   "metadata": {},
   "source": [
    "And less-surprising, is that Andy is far and away the biggest user of the word 'Tuna'."
   ]
  },
  {
   "cell_type": "code",
   "execution_count": 12,
   "metadata": {},
   "outputs": [
    {
     "data": {
      "text/plain": [
       "andy                63\n",
       "jim                 13\n",
       "dwight               9\n",
       "michael              7\n",
       "kevin                2\n",
       "walter jr            2\n",
       "holly                2\n",
       "erin                 2\n",
       "gabe                 2\n",
       "angela               1\n",
       "creed                1\n",
       "robert               1\n",
       "front desk clerk     1\n",
       "mark                 1\n",
       "kelly                1\n",
       "david wallace        1\n",
       "both                 1\n",
       "Name: speaker, dtype: int64"
      ]
     },
     "execution_count": 12,
     "metadata": {},
     "output_type": "execute_result"
    }
   ],
   "source": [
    "line_search(df, 'tuna')['speaker'].value_counts()"
   ]
  },
  {
   "cell_type": "markdown",
   "metadata": {},
   "source": [
    "## Phrases"
   ]
  },
  {
   "cell_type": "markdown",
   "metadata": {},
   "source": [
    "Of course, the best and most obvious use of our ability to zero-in on keywords in every script is to run some numbers on Michael's many, many \"That's what she said\" jokes.\n",
    "\n",
    "His track record of often-ill-timed, always-inappropriate innuendos began early in the second season of the show and lasted consistently through his tenure on The Office, cresting in **(spoilers)** perhaps the dumbest, most-touching context the joke will ever see."
   ]
  },
  {
   "cell_type": "markdown",
   "metadata": {},
   "source": [
    "First, let's get ahold of each instance of the phrase"
   ]
  },
  {
   "cell_type": "code",
   "execution_count": 13,
   "metadata": {},
   "outputs": [
    {
     "data": {
      "text/html": [
       "<div>\n",
       "<style scoped>\n",
       "    .dataframe tbody tr th:only-of-type {\n",
       "        vertical-align: middle;\n",
       "    }\n",
       "\n",
       "    .dataframe tbody tr th {\n",
       "        vertical-align: top;\n",
       "    }\n",
       "\n",
       "    .dataframe thead th {\n",
       "        text-align: right;\n",
       "    }\n",
       "</style>\n",
       "<table border=\"1\" class=\"dataframe\">\n",
       "  <thead>\n",
       "    <tr style=\"text-align: right;\">\n",
       "      <th></th>\n",
       "      <th>id</th>\n",
       "      <th>season</th>\n",
       "      <th>episode</th>\n",
       "      <th>scene</th>\n",
       "      <th>line_text</th>\n",
       "      <th>speaker</th>\n",
       "    </tr>\n",
       "  </thead>\n",
       "  <tbody>\n",
       "    <tr>\n",
       "      <th>1963</th>\n",
       "      <td>2545</td>\n",
       "      <td>2</td>\n",
       "      <td>2</td>\n",
       "      <td>24</td>\n",
       "      <td>That's what she said. Pam?</td>\n",
       "      <td>michael</td>\n",
       "    </tr>\n",
       "    <tr>\n",
       "      <th>2012</th>\n",
       "      <td>2594</td>\n",
       "      <td>2</td>\n",
       "      <td>2</td>\n",
       "      <td>34</td>\n",
       "      <td>THAT'S WHAT SHE SAID!</td>\n",
       "      <td>michael</td>\n",
       "    </tr>\n",
       "    <tr>\n",
       "      <th>4090</th>\n",
       "      <td>5325</td>\n",
       "      <td>2</td>\n",
       "      <td>10</td>\n",
       "      <td>2</td>\n",
       "      <td>A, that's what she said, and B, I wanted it to...</td>\n",
       "      <td>michael</td>\n",
       "    </tr>\n",
       "    <tr>\n",
       "      <th>6026</th>\n",
       "      <td>7644</td>\n",
       "      <td>2</td>\n",
       "      <td>17</td>\n",
       "      <td>6</td>\n",
       "      <td>That's what she said!</td>\n",
       "      <td>michael</td>\n",
       "    </tr>\n",
       "    <tr>\n",
       "      <th>7044</th>\n",
       "      <td>8872</td>\n",
       "      <td>2</td>\n",
       "      <td>21</td>\n",
       "      <td>22</td>\n",
       "      <td>That's what she said. [Jim mouths these words ...</td>\n",
       "      <td>michael</td>\n",
       "    </tr>\n",
       "    <tr>\n",
       "      <th>7722</th>\n",
       "      <td>9624</td>\n",
       "      <td>3</td>\n",
       "      <td>1</td>\n",
       "      <td>49</td>\n",
       "      <td>I am glad that today spurred social change.  T...</td>\n",
       "      <td>michael</td>\n",
       "    </tr>\n",
       "    <tr>\n",
       "      <th>10692</th>\n",
       "      <td>12594</td>\n",
       "      <td>3</td>\n",
       "      <td>10</td>\n",
       "      <td>49</td>\n",
       "      <td>Oh. [She whispers in his ear. Michael starts t...</td>\n",
       "      <td>michael</td>\n",
       "    </tr>\n",
       "    <tr>\n",
       "      <th>12365</th>\n",
       "      <td>14302</td>\n",
       "      <td>3</td>\n",
       "      <td>17</td>\n",
       "      <td>9</td>\n",
       "      <td>That's what she said.</td>\n",
       "      <td>michael</td>\n",
       "    </tr>\n",
       "    <tr>\n",
       "      <th>13449</th>\n",
       "      <td>15386</td>\n",
       "      <td>3</td>\n",
       "      <td>20</td>\n",
       "      <td>11</td>\n",
       "      <td>No, no.  I need two men on this.  That's what ...</td>\n",
       "      <td>michael</td>\n",
       "    </tr>\n",
       "    <tr>\n",
       "      <th>15633</th>\n",
       "      <td>17570</td>\n",
       "      <td>4</td>\n",
       "      <td>2</td>\n",
       "      <td>6</td>\n",
       "      <td>Hey. Can you make that straighter? That's what...</td>\n",
       "      <td>michael</td>\n",
       "    </tr>\n",
       "    <tr>\n",
       "      <th>17023</th>\n",
       "      <td>18960</td>\n",
       "      <td>4</td>\n",
       "      <td>4</td>\n",
       "      <td>45</td>\n",
       "      <td>And the best way to start is to hit start. And...</td>\n",
       "      <td>michael</td>\n",
       "    </tr>\n",
       "    <tr>\n",
       "      <th>18185</th>\n",
       "      <td>20122</td>\n",
       "      <td>4</td>\n",
       "      <td>7</td>\n",
       "      <td>56</td>\n",
       "      <td>That's what I said. That's what she said.</td>\n",
       "      <td>michael</td>\n",
       "    </tr>\n",
       "    <tr>\n",
       "      <th>18333</th>\n",
       "      <td>20270</td>\n",
       "      <td>4</td>\n",
       "      <td>8</td>\n",
       "      <td>23</td>\n",
       "      <td>That's what she said.</td>\n",
       "      <td>michael</td>\n",
       "    </tr>\n",
       "    <tr>\n",
       "      <th>18335</th>\n",
       "      <td>20272</td>\n",
       "      <td>4</td>\n",
       "      <td>8</td>\n",
       "      <td>23</td>\n",
       "      <td>That's what she said.</td>\n",
       "      <td>michael</td>\n",
       "    </tr>\n",
       "    <tr>\n",
       "      <th>18341</th>\n",
       "      <td>20278</td>\n",
       "      <td>4</td>\n",
       "      <td>8</td>\n",
       "      <td>23</td>\n",
       "      <td>Come again? That's what she said? I don't know...</td>\n",
       "      <td>michael</td>\n",
       "    </tr>\n",
       "    <tr>\n",
       "      <th>18779</th>\n",
       "      <td>20716</td>\n",
       "      <td>4</td>\n",
       "      <td>9</td>\n",
       "      <td>19</td>\n",
       "      <td>[yells] THAT'S WHAT SHE SAID! [Jan gets an evi...</td>\n",
       "      <td>michael</td>\n",
       "    </tr>\n",
       "    <tr>\n",
       "      <th>19544</th>\n",
       "      <td>21481</td>\n",
       "      <td>4</td>\n",
       "      <td>12</td>\n",
       "      <td>2</td>\n",
       "      <td>[muffled] That's what she said.</td>\n",
       "      <td>michael</td>\n",
       "    </tr>\n",
       "    <tr>\n",
       "      <th>21213</th>\n",
       "      <td>23150</td>\n",
       "      <td>5</td>\n",
       "      <td>1</td>\n",
       "      <td>111</td>\n",
       "      <td>[from his office] That's what she said.</td>\n",
       "      <td>michael</td>\n",
       "    </tr>\n",
       "    <tr>\n",
       "      <th>21974</th>\n",
       "      <td>23911</td>\n",
       "      <td>5</td>\n",
       "      <td>4</td>\n",
       "      <td>30</td>\n",
       "      <td>It squeaks when you bang it, that's what she s...</td>\n",
       "      <td>michael</td>\n",
       "    </tr>\n",
       "    <tr>\n",
       "      <th>22260</th>\n",
       "      <td>24197</td>\n",
       "      <td>5</td>\n",
       "      <td>5</td>\n",
       "      <td>25</td>\n",
       "      <td>That's what she said.</td>\n",
       "      <td>michael</td>\n",
       "    </tr>\n",
       "    <tr>\n",
       "      <th>34434</th>\n",
       "      <td>36371</td>\n",
       "      <td>6</td>\n",
       "      <td>18</td>\n",
       "      <td>9</td>\n",
       "      <td>That's what she said.</td>\n",
       "      <td>michael</td>\n",
       "    </tr>\n",
       "    <tr>\n",
       "      <th>38650</th>\n",
       "      <td>40587</td>\n",
       "      <td>7</td>\n",
       "      <td>8</td>\n",
       "      <td>29</td>\n",
       "      <td>[grimacing] That's what she said. [leaves]</td>\n",
       "      <td>michael</td>\n",
       "    </tr>\n",
       "    <tr>\n",
       "      <th>42759</th>\n",
       "      <td>44696</td>\n",
       "      <td>7</td>\n",
       "      <td>21</td>\n",
       "      <td>51</td>\n",
       "      <td>[putting his shoes back on, talking to the cam...</td>\n",
       "      <td>michael</td>\n",
       "    </tr>\n",
       "  </tbody>\n",
       "</table>\n",
       "</div>"
      ],
      "text/plain": [
       "          id  season  episode  scene  \\\n",
       "1963    2545       2        2     24   \n",
       "2012    2594       2        2     34   \n",
       "4090    5325       2       10      2   \n",
       "6026    7644       2       17      6   \n",
       "7044    8872       2       21     22   \n",
       "7722    9624       3        1     49   \n",
       "10692  12594       3       10     49   \n",
       "12365  14302       3       17      9   \n",
       "13449  15386       3       20     11   \n",
       "15633  17570       4        2      6   \n",
       "17023  18960       4        4     45   \n",
       "18185  20122       4        7     56   \n",
       "18333  20270       4        8     23   \n",
       "18335  20272       4        8     23   \n",
       "18341  20278       4        8     23   \n",
       "18779  20716       4        9     19   \n",
       "19544  21481       4       12      2   \n",
       "21213  23150       5        1    111   \n",
       "21974  23911       5        4     30   \n",
       "22260  24197       5        5     25   \n",
       "34434  36371       6       18      9   \n",
       "38650  40587       7        8     29   \n",
       "42759  44696       7       21     51   \n",
       "\n",
       "                                               line_text  speaker  \n",
       "1963                          That's what she said. Pam?  michael  \n",
       "2012                               THAT'S WHAT SHE SAID!  michael  \n",
       "4090   A, that's what she said, and B, I wanted it to...  michael  \n",
       "6026                               That's what she said!  michael  \n",
       "7044   That's what she said. [Jim mouths these words ...  michael  \n",
       "7722   I am glad that today spurred social change.  T...  michael  \n",
       "10692  Oh. [She whispers in his ear. Michael starts t...  michael  \n",
       "12365                              That's what she said.  michael  \n",
       "13449  No, no.  I need two men on this.  That's what ...  michael  \n",
       "15633  Hey. Can you make that straighter? That's what...  michael  \n",
       "17023  And the best way to start is to hit start. And...  michael  \n",
       "18185          That's what I said. That's what she said.  michael  \n",
       "18333                              That's what she said.  michael  \n",
       "18335                              That's what she said.  michael  \n",
       "18341  Come again? That's what she said? I don't know...  michael  \n",
       "18779  [yells] THAT'S WHAT SHE SAID! [Jan gets an evi...  michael  \n",
       "19544                    [muffled] That's what she said.  michael  \n",
       "21213            [from his office] That's what she said.  michael  \n",
       "21974  It squeaks when you bang it, that's what she s...  michael  \n",
       "22260                              That's what she said.  michael  \n",
       "34434                              That's what she said.  michael  \n",
       "38650         [grimacing] That's what she said. [leaves]  michael  \n",
       "42759  [putting his shoes back on, talking to the cam...  michael  "
      ]
     },
     "execution_count": 13,
     "metadata": {},
     "output_type": "execute_result"
    }
   ],
   "source": [
    "twss = line_search(df, 'that\\'s what she said')\n",
    "twss = twss[twss['speaker'] == 'michael']\n",
    "twss"
   ]
  },
  {
   "cell_type": "markdown",
   "metadata": {},
   "source": [
    "A respectible 23 times."
   ]
  },
  {
   "cell_type": "markdown",
   "metadata": {},
   "source": [
    "It's also worth a nod to the fact that on at least 13 occasions, someone else shared Michael's burden."
   ]
  },
  {
   "cell_type": "code",
   "execution_count": 15,
   "metadata": {},
   "outputs": [
    {
     "data": {
      "text/plain": [
       "13"
      ]
     },
     "execution_count": 15,
     "metadata": {},
     "output_type": "execute_result"
    }
   ],
   "source": [
    "copycats = line_search(df, 'that\\'s what she said')\n",
    "copycats = copycats[copycats['speaker'] != 'michael']\n",
    "len(copycats)"
   ]
  },
  {
   "cell_type": "markdown",
   "metadata": {},
   "source": [
    "And that when we do a similar search on 'he' instead of 'she', we've shared the love 4 times."
   ]
  },
  {
   "cell_type": "code",
   "execution_count": 16,
   "metadata": {},
   "outputs": [
    {
     "data": {
      "text/plain": [
       "4"
      ]
     },
     "execution_count": 16,
     "metadata": {},
     "output_type": "execute_result"
    }
   ],
   "source": [
    "twhs = line_search(df, 'that\\'s what he said')\n",
    "len(twhs)"
   ]
  },
  {
   "cell_type": "markdown",
   "metadata": {},
   "source": [
    "One thing I was curious about, though, was who was teeing Michael up for these jokes. Getting at that was easy enough. We already have each row of data that he says it. All we have to do is grab the row right before it.\n",
    "\n",
    "Your leaderboard:"
   ]
  },
  {
   "cell_type": "code",
   "execution_count": 17,
   "metadata": {},
   "outputs": [
    {
     "data": {
      "text/plain": [
       "jim             5\n",
       "lester          3\n",
       "michael         3\n",
       "jan             2\n",
       "dwight          1\n",
       "angela          1\n",
       "kevin           1\n",
       "second cindy    1\n",
       "pam             1\n",
       "holly           1\n",
       "andy            1\n",
       "phyllis         1\n",
       "gabe            1\n",
       "darryl          1\n",
       "Name: speaker, dtype: int64"
      ]
     },
     "execution_count": 17,
     "metadata": {},
     "output_type": "execute_result"
    }
   ],
   "source": [
    "df.loc[twss.index - 1]['speaker'].value_counts()"
   ]
  },
  {
   "cell_type": "markdown",
   "metadata": {},
   "source": [
    "Unsurprisingly, Michael sets himself up often (and astute readers will have noticed that some lines above have him doing just that within the span of a sentence or two.)"
   ]
  },
  {
   "cell_type": "markdown",
   "metadata": {},
   "source": [
    "But who's Lester?"
   ]
  },
  {
   "cell_type": "markdown",
   "metadata": {},
   "source": [
    "A bit of poking around, and it turns out that Lester is the name of the attourney that was deposing him in season 4, lol"
   ]
  },
  {
   "cell_type": "code",
   "execution_count": 18,
   "metadata": {},
   "outputs": [
    {
     "data": {
      "image/jpeg": "[encoded data removed]",
      "text/html": [
       "\n",
       "        <iframe\n",
       "            width=\"500\"\n",
       "            height=\"300\"\n",
       "            src=\"https://www.youtube.com/embed/ClzJkv3dpY8?start=240&end=288\"\n",
       "            frameborder=\"0\"\n",
       "            allowfullscreen\n",
       "        ></iframe>\n",
       "        "
      ],
      "text/plain": [
       "<IPython.lib.display.YouTubeVideo at 0x134a8e80>"
      ]
     },
     "execution_count": 18,
     "metadata": {},
     "output_type": "execute_result"
    }
   ],
   "source": [
    "YouTubeVideo('ClzJkv3dpY8', start=240, end=288, width=500)"
   ]
  },
  {
   "cell_type": "markdown",
   "metadata": {},
   "source": [
    "### Michael Hates Toby"
   ]
  },
  {
   "cell_type": "markdown",
   "metadata": {},
   "source": [
    "Another interesting avenue within the text data is looking at how vocabulary changes character-to-character.\n",
    "\n",
    "If you've ever seen these two interact, it wouldn't surprise you to learn that Michael's firey hatred for his colleague in HR comes with a good deal of engendered language. And not just the word \"No.\" (when he learns that Toby has abruptly come back to work after being away for a season)."
   ]
  },
  {
   "cell_type": "code",
   "execution_count": 19,
   "metadata": {},
   "outputs": [
    {
     "data": {
      "image/jpeg": "[encoded data removed]",
      "text/html": [
       "\n",
       "        <iframe\n",
       "            width=\"500\"\n",
       "            height=\"300\"\n",
       "            src=\"https://www.youtube.com/embed/NHh0rf0ojEc\"\n",
       "            frameborder=\"0\"\n",
       "            allowfullscreen\n",
       "        ></iframe>\n",
       "        "
      ],
      "text/plain": [
       "<IPython.lib.display.YouTubeVideo at 0x134a8e48>"
      ]
     },
     "execution_count": 19,
     "metadata": {},
     "output_type": "execute_result"
    }
   ],
   "source": [
    "YouTubeVideo('NHh0rf0ojEc', width=500)"
   ]
  },
  {
   "cell_type": "markdown",
   "metadata": {},
   "source": [
    "And so here, I found every line that Michael delivered within a line or two from Toby. "
   ]
  },
  {
   "cell_type": "code",
   "execution_count": 20,
   "metadata": {
    "scrolled": true
   },
   "outputs": [
    {
     "data": {
      "text/html": [
       "<div>\n",
       "<style scoped>\n",
       "    .dataframe tbody tr th:only-of-type {\n",
       "        vertical-align: middle;\n",
       "    }\n",
       "\n",
       "    .dataframe tbody tr th {\n",
       "        vertical-align: top;\n",
       "    }\n",
       "\n",
       "    .dataframe thead th {\n",
       "        text-align: right;\n",
       "    }\n",
       "</style>\n",
       "<table border=\"1\" class=\"dataframe\">\n",
       "  <thead>\n",
       "    <tr style=\"text-align: right;\">\n",
       "      <th></th>\n",
       "      <th>id</th>\n",
       "      <th>season</th>\n",
       "      <th>episode</th>\n",
       "      <th>scene</th>\n",
       "      <th>line_text</th>\n",
       "      <th>speaker</th>\n",
       "    </tr>\n",
       "  </thead>\n",
       "  <tbody>\n",
       "    <tr>\n",
       "      <th>340</th>\n",
       "      <td>382</td>\n",
       "      <td>1</td>\n",
       "      <td>2</td>\n",
       "      <td>16</td>\n",
       "      <td>Get out.</td>\n",
       "      <td>michael</td>\n",
       "    </tr>\n",
       "    <tr>\n",
       "      <th>342</th>\n",
       "      <td>384</td>\n",
       "      <td>1</td>\n",
       "      <td>2</td>\n",
       "      <td>16</td>\n",
       "      <td>No, this is not a joke. OK? That was offensive...</td>\n",
       "      <td>michael</td>\n",
       "    </tr>\n",
       "    <tr>\n",
       "      <th>343</th>\n",
       "      <td>385</td>\n",
       "      <td>1</td>\n",
       "      <td>2</td>\n",
       "      <td>17</td>\n",
       "      <td>[on the tape] Hi. I'm Michael Scott. I'm in ch...</td>\n",
       "      <td>michael</td>\n",
       "    </tr>\n",
       "    <tr>\n",
       "      <th>1277</th>\n",
       "      <td>1651</td>\n",
       "      <td>1</td>\n",
       "      <td>6</td>\n",
       "      <td>12</td>\n",
       "      <td>Toby, Katy.</td>\n",
       "      <td>michael</td>\n",
       "    </tr>\n",
       "    <tr>\n",
       "      <th>1283</th>\n",
       "      <td>1657</td>\n",
       "      <td>1</td>\n",
       "      <td>6</td>\n",
       "      <td>12</td>\n",
       "      <td>Toby's divorced. He uh, guh recently, right?</td>\n",
       "      <td>michael</td>\n",
       "    </tr>\n",
       "  </tbody>\n",
       "</table>\n",
       "</div>"
      ],
      "text/plain": [
       "        id  season  episode  scene  \\\n",
       "340    382       1        2     16   \n",
       "342    384       1        2     16   \n",
       "343    385       1        2     17   \n",
       "1277  1651       1        6     12   \n",
       "1283  1657       1        6     12   \n",
       "\n",
       "                                              line_text  speaker  \n",
       "340                                            Get out.  michael  \n",
       "342   No, this is not a joke. OK? That was offensive...  michael  \n",
       "343   [on the tape] Hi. I'm Michael Scott. I'm in ch...  michael  \n",
       "1277                                        Toby, Katy.  michael  \n",
       "1283       Toby's divorced. He uh, guh recently, right?  michael  "
      ]
     },
     "execution_count": 20,
     "metadata": {},
     "output_type": "execute_result"
    }
   ],
   "source": [
    "# sample the first few records\n",
    "michaelToToby = df[a_spoke_after_b(df, 'michael', 'toby')]\n",
    "michaelToToby.head()"
   ]
  },
  {
   "cell_type": "markdown",
   "metadata": {},
   "source": [
    "Then I extracted all of the unique words that he used throughout the course of the show"
   ]
  },
  {
   "cell_type": "code",
   "execution_count": 21,
   "metadata": {
    "scrolled": false
   },
   "outputs": [
    {
     "name": "stdout",
     "output_type": "stream",
     "text": [
      "1219\n"
     ]
    }
   ],
   "source": [
    "michaelsWordsToToby = set(extract_corpus(michaelToToby))\n",
    "print(len(michaelsWordsToToby))"
   ]
  },
  {
   "cell_type": "markdown",
   "metadata": {},
   "source": [
    "Then, I grabbed every line that Michael said after people that he liked. Most notably, his lovers, work friends, daughter-figures, Ryan.\n",
    "\n",
    "And I compiled every unique word that he uses with *them*."
   ]
  },
  {
   "cell_type": "code",
   "execution_count": 22,
   "metadata": {},
   "outputs": [
    {
     "name": "stdout",
     "output_type": "stream",
     "text": [
      "7501\n"
     ]
    }
   ],
   "source": [
    "peopleMichaelLikes = ['ryan', 'jim', 'dwight', 'pam', 'holly',\n",
    "                      'darryl', 'erin', 'oscar', 'david', 'jan']\n",
    "\n",
    "niceWords = set()\n",
    "\n",
    "for person in peopleMichaelLikes:\n",
    "    michaelToPerson = df[a_spoke_after_b(df, 'michael', person)]\n",
    "    niceWords = niceWords.union(set(extract_corpus(michaelToPerson)))\n",
    "    \n",
    "print(len(niceWords))"
   ]
  },
  {
   "cell_type": "markdown",
   "metadata": {},
   "source": [
    "This allowed me to generate words that Michael uniquely uses in reaction to someone he hates so damn much.\n",
    "\n",
    ">\"If I had a gun with two bullets and was in a room with Hitler, Bin Laden, and Toby, I would shoot Toby twice.\"\n",
    "\n",
    ">-Michael Scott"
   ]
  },
  {
   "cell_type": "code",
   "execution_count": 23,
   "metadata": {},
   "outputs": [
    {
     "name": "stdout",
     "output_type": "stream",
     "text": [
      "{'smack', 'twisted', 'shifting', 'pitcher', 'soulless', 'bedpost', 'smelly', 'abraham', 'noun', 'discreet', 'balers', 'cop', 'counselor', 'quitter', 'skull', 'powerful', 'kills', 'erics', 'unlocks', 'involving', 'status', 'albeit', 'workassociated', 'molest', 'bored', 'slack', 'undergoing', 'eeny', 'pristine', 'joshin', 'giveswhatwhat', 'heh', 'includes', 'cruisin', 'pufnstuf', 'justdrag', 'dealt', 'whawhawhawhawhat', 'culturally', 'welcoming', 'yanks', 'opener', 'ads', 'influence', 'primary', 'select', 'lobster', 'despite', 'explicit', 'interruption', 'towel', 'dawg', 'psychological', 'affective', 'whisper', 'snail', 'legitimate', 'nigeria', 'disrespectful', 'nile', 'psych', 'flasher', 'interim', 'progress', 'witty', 'infected', 'foliage', 'creedstanley', 'affecting', 'disorder', 'carpools', 'anticipation', 'alf', 'mamas', 'director', 'irritability', 'assuming', 'mutiny', 'pretended', 'miney', 'grimaces', 'blabbering', 'taxpayer', 'lamaze', 'borientationtalks', 'souls', 'boredom', 'bruisin', 'donuts', 'cornerstone', 'temple', 'meenie', 'racist', 'zip', 'pagers', 'crabs', 'nuisance', 'cutiepie', 'redacted', 'conflictin', 'donut', 'slepping', 'neve', 'whomevers', 'insisting', 'beaches', 'pukey', 'plague', 'conflict', 'crumbles', 'agendaactually', 'jeff', 'villages', 'mothers', 'collect', 'aaaah', 'throats', 'slate', 'fortunate', 'inferring', 'peas', 'tan', 'imploring', 'radon', 'farting', 'instructed', 'respected', 'horribleness', 'heartwarming', 'puppet', 'icebreaker', 'cutoff', 'mediators', 'binder', 'punishment', 'climate', 'virus', 'flashed', 'bent', 'biologically', 'chosen', 'allin', 'fatigue', 'airconditioner', 'seasonal', 'caprese', 'nyeh', 'charming', 'freedoms', 'steeped', 'goal', 'tested', 'squat', 'jerky', 'jerkface', 'immature', 'winnings', 'failure', 'verdict', 'resistance', 'relatively', 'nutcases', 'lift', 'perv', 'benefit', 'counseling', 'uncalled', 'rightful', 'alien', 'aircondition', 'sassy', 'aaaahhh', 'comedic', 'pukeys', 'heartless', 'overstaying', 'overstating', 'shine', 'antichrist', 'hammer', 'veterinarian', 'insists', 'pulp', 'alcoholic', 'exhalesi', 'peed', 'stutter', 'sweating', 'campbell', 'probed', 'inception', 'sream', 'redheaded', 'mornin', 'shaolin', 'blowup', 'meantime', 'principles', 'images', 'styles', 'notches', 'answered', 'doll', 'beeps', 'retarded', 'retards', 'committed'}\n"
     ]
    }
   ],
   "source": [
    "print(michaelsWordsToToby - niceWords)"
   ]
  },
  {
   "cell_type": "markdown",
   "metadata": {},
   "source": [
    "# Links"
   ]
  },
  {
   "cell_type": "markdown",
   "metadata": {},
   "source": [
    "All of the source code for this post can be found at https://github.com/napsterinblue/the-office-lines"
   ]
  },
  {
   "cell_type": "markdown",
   "metadata": {},
   "source": [
    "Credit to /u/misunderstoodpoetry [for actually pulling the dataset together](https://www.reddit.com/r/datasets/comments/6yt3og/every_line_from_every_episode_of_the_office_us/?st=jgwtj0fy&sh=41c5561d)"
   ]
  }
 ],
 "metadata": {
  "kernelspec": {
   "display_name": "Python 3",
   "language": "python",
   "name": "python3"
  },
  "language_info": {
   "codemirror_mode": {
    "name": "ipython",
    "version": 3
   },
   "file_extension": ".py",
   "mimetype": "text/x-python",
   "name": "python",
   "nbconvert_exporter": "python",
   "pygments_lexer": "ipython3",
   "version": "3.6.3"
  }
 },
 "nbformat": 4,
 "nbformat_minor": 2
}
