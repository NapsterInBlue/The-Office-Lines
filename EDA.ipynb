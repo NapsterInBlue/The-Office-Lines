{
 "cells": [
  {
   "cell_type": "code",
   "execution_count": 1,
   "metadata": {
    "scrolled": true
   },
   "outputs": [
    {
     "name": "stdout",
     "output_type": "stream",
     "text": [
      "Populating the interactive namespace from numpy and matplotlib\n"
     ]
    }
   ],
   "source": [
    "%pylab inline"
   ]
  },
  {
   "cell_type": "code",
   "execution_count": 2,
   "metadata": {
    "collapsed": true
   },
   "outputs": [],
   "source": [
    "import pandas as pd\n",
    "import re"
   ]
  },
  {
   "cell_type": "markdown",
   "metadata": {},
   "source": [
    "# Cleaning Functions"
   ]
  },
  {
   "cell_type": "code",
   "execution_count": 3,
   "metadata": {
    "collapsed": true
   },
   "outputs": [],
   "source": [
    "def clean_line_text(df):\n",
    "    import re\n",
    "    badChars = re.compile('[^A-Z \\-?\\.&\\'\\[\\],*!\\%]', re.I)\n",
    "    df['line_text'] = df['line_text'].map(lambda x: badChars.sub('', x))\n",
    "    return df\n",
    "\n",
    "def clean_speaker_names(df):\n",
    "    df['speaker'] = df['speaker'].str.strip().str.lower()\n",
    "    return df\n",
    "\n",
    "def drop_deleted_scenes(df):\n",
    "    df = df[df['deleted'] == False]\n",
    "    del df['deleted']\n",
    "    return df.reset_index(drop=True)\n"
   ]
  },
  {
   "cell_type": "code",
   "execution_count": 4,
   "metadata": {
    "collapsed": true
   },
   "outputs": [],
   "source": [
    "def do_all_data_loading():\n",
    "    df = pd.read_csv('data/the-office-lines-scripts.csv')\n",
    "    df = clean_line_text(df)\n",
    "    df = clean_speaker_names(df)\n",
    "    df = drop_deleted_scenes(df)\n",
    "    return df"
   ]
  },
  {
   "cell_type": "markdown",
   "metadata": {},
   "source": [
    "### First Look at Data"
   ]
  },
  {
   "cell_type": "code",
   "execution_count": 5,
   "metadata": {
    "collapsed": true,
    "scrolled": true
   },
   "outputs": [],
   "source": [
    "df = do_all_data_loading()"
   ]
  },
  {
   "cell_type": "code",
   "execution_count": 6,
   "metadata": {},
   "outputs": [
    {
     "data": {
      "text/html": [
       "<div>\n",
       "<style scoped>\n",
       "    .dataframe tbody tr th:only-of-type {\n",
       "        vertical-align: middle;\n",
       "    }\n",
       "\n",
       "    .dataframe tbody tr th {\n",
       "        vertical-align: top;\n",
       "    }\n",
       "\n",
       "    .dataframe thead th {\n",
       "        text-align: right;\n",
       "    }\n",
       "</style>\n",
       "<table border=\"1\" class=\"dataframe\">\n",
       "  <thead>\n",
       "    <tr style=\"text-align: right;\">\n",
       "      <th></th>\n",
       "      <th>id</th>\n",
       "      <th>season</th>\n",
       "      <th>episode</th>\n",
       "      <th>scene</th>\n",
       "      <th>line_text</th>\n",
       "      <th>speaker</th>\n",
       "    </tr>\n",
       "  </thead>\n",
       "  <tbody>\n",
       "    <tr>\n",
       "      <th>13409</th>\n",
       "      <td>15346</td>\n",
       "      <td>3</td>\n",
       "      <td>20</td>\n",
       "      <td>1</td>\n",
       "      <td>Fact.  Bears eat beets.  Bears.  Beets.  Battl...</td>\n",
       "      <td>jim</td>\n",
       "    </tr>\n",
       "  </tbody>\n",
       "</table>\n",
       "</div>"
      ],
      "text/plain": [
       "          id  season  episode  scene  \\\n",
       "13409  15346       3       20      1   \n",
       "\n",
       "                                               line_text speaker  \n",
       "13409  Fact.  Bears eat beets.  Bears.  Beets.  Battl...     jim  "
      ]
     },
     "execution_count": 6,
     "metadata": {},
     "output_type": "execute_result"
    }
   ],
   "source": [
    "df[df['line_text'].str.contains('Bears.  Beets.  Battlestar')]"
   ]
  },
  {
   "cell_type": "markdown",
   "metadata": {},
   "source": [
    "##  EDA Functions"
   ]
  },
  {
   "cell_type": "code",
   "execution_count": 7,
   "metadata": {
    "collapsed": true
   },
   "outputs": [],
   "source": [
    "def line_search(line, speaker=None):\n",
    "    if speaker:\n",
    "        speaker = df['speaker'] == speaker\n",
    "    else:\n",
    "        speaker = True\n",
    "\n",
    "    line = line.replace(' ', '\\s*')\n",
    "    line = df['line_text'].str.contains(line, regex=True, flags=re.I)\n",
    "\n",
    "    return df[line & speaker]"
   ]
  },
  {
   "cell_type": "code",
   "execution_count": 8,
   "metadata": {
    "scrolled": false
   },
   "outputs": [
    {
     "data": {
      "text/html": [
       "<div>\n",
       "<style scoped>\n",
       "    .dataframe tbody tr th:only-of-type {\n",
       "        vertical-align: middle;\n",
       "    }\n",
       "\n",
       "    .dataframe tbody tr th {\n",
       "        vertical-align: top;\n",
       "    }\n",
       "\n",
       "    .dataframe thead th {\n",
       "        text-align: right;\n",
       "    }\n",
       "</style>\n",
       "<table border=\"1\" class=\"dataframe\">\n",
       "  <thead>\n",
       "    <tr style=\"text-align: right;\">\n",
       "      <th></th>\n",
       "      <th>id</th>\n",
       "      <th>season</th>\n",
       "      <th>episode</th>\n",
       "      <th>scene</th>\n",
       "      <th>line_text</th>\n",
       "      <th>speaker</th>\n",
       "    </tr>\n",
       "  </thead>\n",
       "  <tbody>\n",
       "    <tr>\n",
       "      <th>13409</th>\n",
       "      <td>15346</td>\n",
       "      <td>3</td>\n",
       "      <td>20</td>\n",
       "      <td>1</td>\n",
       "      <td>Fact.  Bears eat beets.  Bears.  Beets.  Battl...</td>\n",
       "      <td>jim</td>\n",
       "    </tr>\n",
       "  </tbody>\n",
       "</table>\n",
       "</div>"
      ],
      "text/plain": [
       "          id  season  episode  scene  \\\n",
       "13409  15346       3       20      1   \n",
       "\n",
       "                                               line_text speaker  \n",
       "13409  Fact.  Bears eat beets.  Bears.  Beets.  Battl...     jim  "
      ]
     },
     "execution_count": 8,
     "metadata": {},
     "output_type": "execute_result"
    }
   ],
   "source": [
    "line_search('bears. beets. battlestar')"
   ]
  },
  {
   "cell_type": "code",
   "execution_count": 9,
   "metadata": {
    "collapsed": true
   },
   "outputs": [],
   "source": [
    "def get_dialogue(season, episode, scenes=None):\n",
    "    season = df['season'] == season\n",
    "    episode = df['episode'] == episode\n",
    "\n",
    "    if scenes:\n",
    "        if type(scenes) != list:\n",
    "            scenes = [scenes]\n",
    "        else:\n",
    "            scenes = list(range(*scenes))\n",
    "\n",
    "        scenes = df['scene'].isin(scenes)\n",
    "    else:\n",
    "        scenes = True\n",
    "\n",
    "    return df[season & episode & scenes]"
   ]
  },
  {
   "cell_type": "code",
   "execution_count": 10,
   "metadata": {
    "scrolled": true
   },
   "outputs": [
    {
     "data": {
      "text/html": [
       "<div>\n",
       "<style scoped>\n",
       "    .dataframe tbody tr th:only-of-type {\n",
       "        vertical-align: middle;\n",
       "    }\n",
       "\n",
       "    .dataframe tbody tr th {\n",
       "        vertical-align: top;\n",
       "    }\n",
       "\n",
       "    .dataframe thead th {\n",
       "        text-align: right;\n",
       "    }\n",
       "</style>\n",
       "<table border=\"1\" class=\"dataframe\">\n",
       "  <thead>\n",
       "    <tr style=\"text-align: right;\">\n",
       "      <th></th>\n",
       "      <th>id</th>\n",
       "      <th>season</th>\n",
       "      <th>episode</th>\n",
       "      <th>scene</th>\n",
       "      <th>line_text</th>\n",
       "      <th>speaker</th>\n",
       "    </tr>\n",
       "  </thead>\n",
       "  <tbody>\n",
       "    <tr>\n",
       "      <th>13405</th>\n",
       "      <td>15342</td>\n",
       "      <td>3</td>\n",
       "      <td>20</td>\n",
       "      <td>1</td>\n",
       "      <td>[Dressed as Dwight] It's kind of blurry. [puts...</td>\n",
       "      <td>jim</td>\n",
       "    </tr>\n",
       "    <tr>\n",
       "      <th>13406</th>\n",
       "      <td>15343</td>\n",
       "      <td>3</td>\n",
       "      <td>20</td>\n",
       "      <td>1</td>\n",
       "      <td>That's a ridiculous question.</td>\n",
       "      <td>dwight</td>\n",
       "    </tr>\n",
       "    <tr>\n",
       "      <th>13407</th>\n",
       "      <td>15344</td>\n",
       "      <td>3</td>\n",
       "      <td>20</td>\n",
       "      <td>1</td>\n",
       "      <td>False.  Black bear.</td>\n",
       "      <td>jim</td>\n",
       "    </tr>\n",
       "    <tr>\n",
       "      <th>13408</th>\n",
       "      <td>15345</td>\n",
       "      <td>3</td>\n",
       "      <td>20</td>\n",
       "      <td>1</td>\n",
       "      <td>Well that's debatable.  There are basically tw...</td>\n",
       "      <td>dwight</td>\n",
       "    </tr>\n",
       "    <tr>\n",
       "      <th>13409</th>\n",
       "      <td>15346</td>\n",
       "      <td>3</td>\n",
       "      <td>20</td>\n",
       "      <td>1</td>\n",
       "      <td>Fact.  Bears eat beets.  Bears.  Beets.  Battl...</td>\n",
       "      <td>jim</td>\n",
       "    </tr>\n",
       "    <tr>\n",
       "      <th>13410</th>\n",
       "      <td>15347</td>\n",
       "      <td>3</td>\n",
       "      <td>20</td>\n",
       "      <td>1</td>\n",
       "      <td>Bears do not--- What is going on--- What are y...</td>\n",
       "      <td>dwight</td>\n",
       "    </tr>\n",
       "    <tr>\n",
       "      <th>13411</th>\n",
       "      <td>15348</td>\n",
       "      <td>3</td>\n",
       "      <td>20</td>\n",
       "      <td>2</td>\n",
       "      <td>Last week, I was in a drug store and I saw the...</td>\n",
       "      <td>jim</td>\n",
       "    </tr>\n",
       "  </tbody>\n",
       "</table>\n",
       "</div>"
      ],
      "text/plain": [
       "          id  season  episode  scene  \\\n",
       "13405  15342       3       20      1   \n",
       "13406  15343       3       20      1   \n",
       "13407  15344       3       20      1   \n",
       "13408  15345       3       20      1   \n",
       "13409  15346       3       20      1   \n",
       "13410  15347       3       20      1   \n",
       "13411  15348       3       20      2   \n",
       "\n",
       "                                               line_text speaker  \n",
       "13405  [Dressed as Dwight] It's kind of blurry. [puts...     jim  \n",
       "13406                      That's a ridiculous question.  dwight  \n",
       "13407                                False.  Black bear.     jim  \n",
       "13408  Well that's debatable.  There are basically tw...  dwight  \n",
       "13409  Fact.  Bears eat beets.  Bears.  Beets.  Battl...     jim  \n",
       "13410  Bears do not--- What is going on--- What are y...  dwight  \n",
       "13411  Last week, I was in a drug store and I saw the...     jim  "
      ]
     },
     "execution_count": 10,
     "metadata": {},
     "output_type": "execute_result"
    }
   ],
   "source": [
    "get_dialogue(season=3, episode=20, scenes=[1, 3])"
   ]
  },
  {
   "cell_type": "markdown",
   "metadata": {},
   "source": [
    "## Actually Doing EDA"
   ]
  },
  {
   "cell_type": "markdown",
   "metadata": {},
   "source": [
    "## The Cast"
   ]
  },
  {
   "cell_type": "markdown",
   "metadata": {},
   "source": [
    "#### Who's considered to be core cast?"
   ]
  },
  {
   "cell_type": "markdown",
   "metadata": {},
   "source": [
    "There are a lot of characters with lines in the show"
   ]
  },
  {
   "cell_type": "code",
   "execution_count": 11,
   "metadata": {},
   "outputs": [
    {
     "data": {
      "text/plain": [
       "771"
      ]
     },
     "execution_count": 11,
     "metadata": {},
     "output_type": "execute_result"
    }
   ],
   "source": [
    "len(df['speaker'].unique())"
   ]
  },
  {
   "cell_type": "markdown",
   "metadata": {},
   "source": [
    "This looks good"
   ]
  },
  {
   "cell_type": "code",
   "execution_count": 12,
   "metadata": {},
   "outputs": [
    {
     "name": "stdout",
     "output_type": "stream",
     "text": [
      "michael     11578\n",
      "dwight       7169\n",
      "jim          6612\n",
      "pam          5206\n",
      "andy         3968\n",
      "kevin        1668\n",
      "angela       1658\n",
      "erin         1469\n",
      "oscar        1444\n",
      "ryan         1301\n",
      "darryl       1228\n",
      "phyllis      1031\n",
      "kelly         935\n",
      "jan           898\n",
      "toby          889\n",
      "stanley       732\n",
      "meredith      631\n",
      "holly         608\n",
      "nellie        529\n",
      "gabe          436\n",
      "creed         431\n",
      "robert        430\n",
      "david         382\n",
      "karen         340\n",
      "clark         260\n",
      "deangelo      250\n",
      "Name: speaker, dtype: int64\n"
     ]
    }
   ],
   "source": [
    "print(df['speaker'].value_counts()[:26])"
   ]
  },
  {
   "cell_type": "code",
   "execution_count": 13,
   "metadata": {
    "collapsed": true
   },
   "outputs": [],
   "source": [
    "def filter_cast(df, minLines=100):\n",
    "    lineCounts = df['speaker'].value_counts()\n",
    "    importantPeople = lineCounts[lineCounts > minLines].index\n",
    "\n",
    "    filtered = df[df['speaker'].isin(importantPeople)]\n",
    "\n",
    "    return filtered.reset_index(drop=True)"
   ]
  },
  {
   "cell_type": "code",
   "execution_count": 14,
   "metadata": {},
   "outputs": [
    {
     "data": {
      "text/plain": [
       "array(['michael', 'jim', 'pam', 'dwight', 'jan', 'phyllis', 'stanley',\n",
       "       'oscar', 'angela', 'kevin', 'ryan', 'toby', 'kelly', 'meredith',\n",
       "       'darryl', 'creed', 'david', 'andy', 'karen', 'holly', 'erin',\n",
       "       'gabe', 'clark', 'robert', 'nellie'], dtype=object)"
      ]
     },
     "execution_count": 14,
     "metadata": {},
     "output_type": "execute_result"
    }
   ],
   "source": [
    "filteredCast = filter_cast(df, 250)\n",
    "filteredCast['speaker'].unique()"
   ]
  },
  {
   "cell_type": "markdown",
   "metadata": {},
   "source": [
    "#### Who shares the screen the most?"
   ]
  },
  {
   "cell_type": "markdown",
   "metadata": {},
   "source": [
    "First we need to get a neat record of who's in each scene."
   ]
  },
  {
   "cell_type": "code",
   "execution_count": 15,
   "metadata": {
    "collapsed": true
   },
   "outputs": [],
   "source": [
    "def get_cast_by_scene(df):\n",
    "    gb = df.groupby(['season', 'episode', 'scene'])\n",
    "\n",
    "    # Each record will be a list of every present character\n",
    "    s = gb['speaker'].unique().reset_index(drop=True)\n",
    "\n",
    "    # Each record is at the present (scene, character) level\n",
    "    tallCastByScene = s.apply(pd.Series).stack()\n",
    "\n",
    "    # Consolidate each scene to one row\n",
    "    castByScene = pd.get_dummies(tallCastByScene).sum(level=0)\n",
    "\n",
    "    return castByScene"
   ]
  },
  {
   "cell_type": "code",
   "execution_count": 16,
   "metadata": {},
   "outputs": [
    {
     "data": {
      "text/html": [
       "<div>\n",
       "<style scoped>\n",
       "    .dataframe tbody tr th:only-of-type {\n",
       "        vertical-align: middle;\n",
       "    }\n",
       "\n",
       "    .dataframe tbody tr th {\n",
       "        vertical-align: top;\n",
       "    }\n",
       "\n",
       "    .dataframe thead th {\n",
       "        text-align: right;\n",
       "    }\n",
       "</style>\n",
       "<table border=\"1\" class=\"dataframe\">\n",
       "  <thead>\n",
       "    <tr style=\"text-align: right;\">\n",
       "      <th></th>\n",
       "      <th>andy</th>\n",
       "      <th>angela</th>\n",
       "      <th>clark</th>\n",
       "      <th>creed</th>\n",
       "      <th>darryl</th>\n",
       "      <th>david</th>\n",
       "      <th>dwight</th>\n",
       "      <th>erin</th>\n",
       "      <th>gabe</th>\n",
       "      <th>holly</th>\n",
       "      <th>...</th>\n",
       "      <th>meredith</th>\n",
       "      <th>michael</th>\n",
       "      <th>nellie</th>\n",
       "      <th>oscar</th>\n",
       "      <th>pam</th>\n",
       "      <th>phyllis</th>\n",
       "      <th>robert</th>\n",
       "      <th>ryan</th>\n",
       "      <th>stanley</th>\n",
       "      <th>toby</th>\n",
       "    </tr>\n",
       "  </thead>\n",
       "  <tbody>\n",
       "    <tr>\n",
       "      <th>0</th>\n",
       "      <td>0</td>\n",
       "      <td>0</td>\n",
       "      <td>0</td>\n",
       "      <td>0</td>\n",
       "      <td>0</td>\n",
       "      <td>0</td>\n",
       "      <td>0</td>\n",
       "      <td>0</td>\n",
       "      <td>0</td>\n",
       "      <td>0</td>\n",
       "      <td>...</td>\n",
       "      <td>0</td>\n",
       "      <td>1</td>\n",
       "      <td>0</td>\n",
       "      <td>0</td>\n",
       "      <td>0</td>\n",
       "      <td>0</td>\n",
       "      <td>0</td>\n",
       "      <td>0</td>\n",
       "      <td>0</td>\n",
       "      <td>0</td>\n",
       "    </tr>\n",
       "    <tr>\n",
       "      <th>1</th>\n",
       "      <td>0</td>\n",
       "      <td>0</td>\n",
       "      <td>0</td>\n",
       "      <td>0</td>\n",
       "      <td>0</td>\n",
       "      <td>0</td>\n",
       "      <td>0</td>\n",
       "      <td>0</td>\n",
       "      <td>0</td>\n",
       "      <td>0</td>\n",
       "      <td>...</td>\n",
       "      <td>0</td>\n",
       "      <td>1</td>\n",
       "      <td>0</td>\n",
       "      <td>0</td>\n",
       "      <td>0</td>\n",
       "      <td>0</td>\n",
       "      <td>0</td>\n",
       "      <td>0</td>\n",
       "      <td>0</td>\n",
       "      <td>0</td>\n",
       "    </tr>\n",
       "    <tr>\n",
       "      <th>2</th>\n",
       "      <td>0</td>\n",
       "      <td>0</td>\n",
       "      <td>0</td>\n",
       "      <td>0</td>\n",
       "      <td>0</td>\n",
       "      <td>0</td>\n",
       "      <td>0</td>\n",
       "      <td>0</td>\n",
       "      <td>0</td>\n",
       "      <td>0</td>\n",
       "      <td>...</td>\n",
       "      <td>0</td>\n",
       "      <td>1</td>\n",
       "      <td>0</td>\n",
       "      <td>0</td>\n",
       "      <td>1</td>\n",
       "      <td>0</td>\n",
       "      <td>0</td>\n",
       "      <td>0</td>\n",
       "      <td>0</td>\n",
       "      <td>0</td>\n",
       "    </tr>\n",
       "    <tr>\n",
       "      <th>3</th>\n",
       "      <td>0</td>\n",
       "      <td>0</td>\n",
       "      <td>0</td>\n",
       "      <td>0</td>\n",
       "      <td>0</td>\n",
       "      <td>0</td>\n",
       "      <td>0</td>\n",
       "      <td>0</td>\n",
       "      <td>0</td>\n",
       "      <td>0</td>\n",
       "      <td>...</td>\n",
       "      <td>0</td>\n",
       "      <td>1</td>\n",
       "      <td>0</td>\n",
       "      <td>0</td>\n",
       "      <td>0</td>\n",
       "      <td>0</td>\n",
       "      <td>0</td>\n",
       "      <td>0</td>\n",
       "      <td>0</td>\n",
       "      <td>0</td>\n",
       "    </tr>\n",
       "    <tr>\n",
       "      <th>4</th>\n",
       "      <td>0</td>\n",
       "      <td>0</td>\n",
       "      <td>0</td>\n",
       "      <td>0</td>\n",
       "      <td>0</td>\n",
       "      <td>0</td>\n",
       "      <td>1</td>\n",
       "      <td>0</td>\n",
       "      <td>0</td>\n",
       "      <td>0</td>\n",
       "      <td>...</td>\n",
       "      <td>0</td>\n",
       "      <td>0</td>\n",
       "      <td>0</td>\n",
       "      <td>0</td>\n",
       "      <td>0</td>\n",
       "      <td>0</td>\n",
       "      <td>0</td>\n",
       "      <td>0</td>\n",
       "      <td>0</td>\n",
       "      <td>0</td>\n",
       "    </tr>\n",
       "  </tbody>\n",
       "</table>\n",
       "<p>5 rows × 25 columns</p>\n",
       "</div>"
      ],
      "text/plain": [
       "   andy  angela  clark  creed  darryl  david  dwight  erin  gabe  holly  ...   \\\n",
       "0     0       0      0      0       0      0       0     0     0      0  ...    \n",
       "1     0       0      0      0       0      0       0     0     0      0  ...    \n",
       "2     0       0      0      0       0      0       0     0     0      0  ...    \n",
       "3     0       0      0      0       0      0       0     0     0      0  ...    \n",
       "4     0       0      0      0       0      0       1     0     0      0  ...    \n",
       "\n",
       "   meredith  michael  nellie  oscar  pam  phyllis  robert  ryan  stanley  toby  \n",
       "0         0        1       0      0    0        0       0     0        0     0  \n",
       "1         0        1       0      0    0        0       0     0        0     0  \n",
       "2         0        1       0      0    1        0       0     0        0     0  \n",
       "3         0        1       0      0    0        0       0     0        0     0  \n",
       "4         0        0       0      0    0        0       0     0        0     0  \n",
       "\n",
       "[5 rows x 25 columns]"
      ]
     },
     "execution_count": 16,
     "metadata": {},
     "output_type": "execute_result"
    }
   ],
   "source": [
    "castByScene = get_cast_by_scene(filteredCast)\n",
    "castByScene.head()"
   ]
  },
  {
   "cell_type": "markdown",
   "metadata": {},
   "source": [
    "If we take every record where `andy` is in a scene, then sum every other column, we get the number of times they have lines together in a scene."
   ]
  },
  {
   "cell_type": "code",
   "execution_count": 17,
   "metadata": {
    "scrolled": false
   },
   "outputs": [
    {
     "data": {
      "text/plain": [
       "andy        1341\n",
       "angela       142\n",
       "clark         21\n",
       "creed         57\n",
       "darryl       138\n",
       "david          9\n",
       "dwight       332\n",
       "erin         230\n",
       "gabe          37\n",
       "holly          9\n",
       "jan            9\n",
       "jim          317\n",
       "karen         20\n",
       "kelly         84\n",
       "kevin        203\n",
       "meredith      95\n",
       "michael      225\n",
       "nellie        35\n",
       "oscar        167\n",
       "pam          220\n",
       "phyllis      179\n",
       "robert        57\n",
       "ryan          74\n",
       "stanley      131\n",
       "toby          39\n",
       "dtype: int64"
      ]
     },
     "execution_count": 17,
     "metadata": {},
     "output_type": "execute_result"
    }
   ],
   "source": [
    "castByScene[castByScene['andy'] > 0].sum()"
   ]
  },
  {
   "cell_type": "markdown",
   "metadata": {},
   "source": [
    "Repeat this for every pair in our DataFrame"
   ]
  },
  {
   "cell_type": "code",
   "execution_count": 18,
   "metadata": {
    "collapsed": true
   },
   "outputs": [],
   "source": [
    "pairs = {char:None for char in castByScene}\n",
    "\n",
    "for char in castByScene:\n",
    "    pairs[char] = castByScene[castByScene[char] > 0].sum()"
   ]
  },
  {
   "cell_type": "markdown",
   "metadata": {},
   "source": [
    "To get a matrix of shared-scene counts"
   ]
  },
  {
   "cell_type": "code",
   "execution_count": 19,
   "metadata": {},
   "outputs": [
    {
     "data": {
      "text/plain": [
       "array([[1341,  142,   21,   57,  138,    9,  332,  230,   37,    9,    9,\n",
       "         317,   20,   84,  203,   95,  225,   35,  167,  220,  179,   57,\n",
       "          74,  131,   39],\n",
       "       [ 142,  738,    8,   46,   34,    0,  280,   61,   14,    9,   16,\n",
       "         133,   15,   83,  210,   86,  178,   26,  199,  186,  146,   11,\n",
       "          33,   76,   42],\n",
       "       [  21,    8,   92,    3,   12,    0,   47,   13,    0,    0,    1,\n",
       "          15,    0,    0,   12,    9,    0,    5,   11,   16,   10,    0,\n",
       "           0,   11,    3],\n",
       "       [  57,   46,    3,  293,   16,    2,   81,   28,   10,    3,    3,\n",
       "          83,    3,   31,   63,   44,   79,   13,   57,   74,   57,    5,\n",
       "          29,   43,   26],\n",
       "       [ 138,   34,   12,   16,  470,    0,   95,   39,   29,   20,    1,\n",
       "          91,    2,   32,   89,   34,  110,   21,   67,   77,   62,    7,\n",
       "          23,   32,   32],\n",
       "       [   9,    0,    0,    2,    0,   86,   19,    4,    0,    2,    8,\n",
       "          21,    2,    3,    2,    3,   58,    1,    0,    9,    4,    4,\n",
       "           5,    2,    2],\n",
       "       [ 332,  280,   47,   81,   95,   19, 2367,  147,   49,   26,   30,\n",
       "         680,   20,  108,  198,  123,  717,   80,  196,  382,  232,   25,\n",
       "         143,  165,   74],\n",
       "       [ 230,   61,   13,   28,   39,    4,  147,  614,   33,   12,    0,\n",
       "         113,    0,   43,  105,   51,  116,   38,   79,  117,   83,   23,\n",
       "          41,   50,   17],\n",
       "       [  37,   14,    0,   10,   29,    0,   49,   33,  181,    3,    0,\n",
       "          50,    0,   15,   28,   16,   37,   11,   22,   31,   16,   14,\n",
       "          14,    8,   20],\n",
       "       [   9,    9,    0,    3,   20,    2,   26,   12,    3,  162,    4,\n",
       "          18,    0,   11,   25,    8,  117,    0,   12,   14,    9,    0,\n",
       "           7,    4,    8],\n",
       "       [   9,   16,    1,    3,    1,    8,   30,    0,    0,    4,  214,\n",
       "          19,    3,    9,    9,    4,  147,    0,    6,   37,    6,    0,\n",
       "           2,    1,    8],\n",
       "       [ 317,  133,   15,   83,   91,   21,  680,  113,   50,   18,   19,\n",
       "        2150,   72,  104,  233,   95,  501,   47,  178,  800,  194,   35,\n",
       "         130,  149,   73],\n",
       "       [  20,   15,    0,    3,    2,    2,   20,    0,    0,    0,    3,\n",
       "          72,  144,    4,    7,    6,   32,    0,    2,   37,   19,    0,\n",
       "           5,    8,    0],\n",
       "       [  84,   83,    0,   31,   32,    3,  108,   43,   15,   11,    9,\n",
       "         104,    4,  436,   86,   57,  125,    1,   76,  124,   77,    4,\n",
       "         105,   46,   36],\n",
       "       [ 203,  210,   12,   63,   89,    2,  198,  105,   28,   25,    9,\n",
       "         233,    7,   86,  873,  105,  245,   37,  233,  223,  154,   30,\n",
       "          67,   92,   56],\n",
       "       [  95,   86,    9,   44,   34,    3,  123,   51,   16,    8,    4,\n",
       "          95,    6,   57,  105,  372,  112,   19,  101,  115,   84,   13,\n",
       "          33,   60,   23],\n",
       "       [ 225,  178,    0,   79,  110,   58,  717,  116,   37,  117,  147,\n",
       "         501,   32,  125,  245,  112, 3029,    0,  217,  533,  204,    0,\n",
       "         217,  178,  124],\n",
       "       [  35,   26,    5,   13,   21,    1,   80,   38,   11,    0,    0,\n",
       "          47,    0,    1,   37,   19,    0,  211,   21,   48,   25,   14,\n",
       "           5,   21,   17],\n",
       "       [ 167,  199,   11,   57,   67,    0,  196,   79,   22,   12,    6,\n",
       "         178,    2,   76,  233,  101,  217,   21,  717,  184,  150,   23,\n",
       "          66,   97,   51],\n",
       "       [ 220,  186,   16,   74,   77,    9,  382,  117,   31,   14,   37,\n",
       "         800,   37,  124,  223,  115,  533,   48,  184, 1921,  202,   14,\n",
       "         134,  120,   70],\n",
       "       [ 179,  146,   10,   57,   62,    4,  232,   83,   16,    9,    6,\n",
       "         194,   19,   77,  154,   84,  204,   25,  150,  202,  622,   13,\n",
       "          56,  171,   29],\n",
       "       [  57,   11,    0,    5,    7,    4,   25,   23,   14,    0,    0,\n",
       "          35,    0,    4,   30,   13,    0,   14,   23,   14,   13,  135,\n",
       "          13,   11,   10],\n",
       "       [  74,   33,    0,   29,   23,    5,  143,   41,   14,    7,    2,\n",
       "         130,    5,  105,   67,   33,  217,    5,   66,  134,   56,   13,\n",
       "         540,   53,   32],\n",
       "       [ 131,   76,   11,   43,   32,    2,  165,   50,    8,    4,    1,\n",
       "         149,    8,   46,   92,   60,  178,   21,   97,  120,  171,   11,\n",
       "          53,  465,   25],\n",
       "       [  39,   42,    3,   26,   32,    2,   74,   17,   20,    8,    8,\n",
       "          73,    0,   36,   56,   23,  124,   17,   51,   70,   29,   10,\n",
       "          32,   25,  358]], dtype=int64)"
      ]
     },
     "execution_count": 19,
     "metadata": {},
     "output_type": "execute_result"
    }
   ],
   "source": [
    "pairValues = pd.DataFrame(pairs).values\n",
    "pairValues"
   ]
  },
  {
   "cell_type": "markdown",
   "metadata": {},
   "source": [
    "However, this data is mirrored on the diag (Jim/Dwight is the same as Dwight/Jim)"
   ]
  },
  {
   "cell_type": "code",
   "execution_count": 20,
   "metadata": {
    "scrolled": true
   },
   "outputs": [
    {
     "data": {
      "text/plain": [
       "True"
      ]
     },
     "execution_count": 20,
     "metadata": {},
     "output_type": "execute_result"
    }
   ],
   "source": [
    "import numpy as np\n",
    "np.all(np.transpose(pairValues) == pairValues)"
   ]
  },
  {
   "cell_type": "markdown",
   "metadata": {},
   "source": [
    "So for neatness, we're going to throw away the redundant data."
   ]
  },
  {
   "cell_type": "code",
   "execution_count": 21,
   "metadata": {
    "scrolled": true
   },
   "outputs": [
    {
     "data": {
      "text/plain": [
       "array([[  0,   0,   0,   0,   0,   0,   0,   0,   0,   0,   0,   0,   0,\n",
       "          0,   0,   0,   0,   0,   0,   0,   0,   0,   0,   0,   0],\n",
       "       [142,   0,   0,   0,   0,   0,   0,   0,   0,   0,   0,   0,   0,\n",
       "          0,   0,   0,   0,   0,   0,   0,   0,   0,   0,   0,   0],\n",
       "       [ 21,   8,   0,   0,   0,   0,   0,   0,   0,   0,   0,   0,   0,\n",
       "          0,   0,   0,   0,   0,   0,   0,   0,   0,   0,   0,   0],\n",
       "       [ 57,  46,   3,   0,   0,   0,   0,   0,   0,   0,   0,   0,   0,\n",
       "          0,   0,   0,   0,   0,   0,   0,   0,   0,   0,   0,   0],\n",
       "       [138,  34,  12,  16,   0,   0,   0,   0,   0,   0,   0,   0,   0,\n",
       "          0,   0,   0,   0,   0,   0,   0,   0,   0,   0,   0,   0],\n",
       "       [  9,   0,   0,   2,   0,   0,   0,   0,   0,   0,   0,   0,   0,\n",
       "          0,   0,   0,   0,   0,   0,   0,   0,   0,   0,   0,   0],\n",
       "       [332, 280,  47,  81,  95,  19,   0,   0,   0,   0,   0,   0,   0,\n",
       "          0,   0,   0,   0,   0,   0,   0,   0,   0,   0,   0,   0],\n",
       "       [230,  61,  13,  28,  39,   4, 147,   0,   0,   0,   0,   0,   0,\n",
       "          0,   0,   0,   0,   0,   0,   0,   0,   0,   0,   0,   0],\n",
       "       [ 37,  14,   0,  10,  29,   0,  49,  33,   0,   0,   0,   0,   0,\n",
       "          0,   0,   0,   0,   0,   0,   0,   0,   0,   0,   0,   0],\n",
       "       [  9,   9,   0,   3,  20,   2,  26,  12,   3,   0,   0,   0,   0,\n",
       "          0,   0,   0,   0,   0,   0,   0,   0,   0,   0,   0,   0],\n",
       "       [  9,  16,   1,   3,   1,   8,  30,   0,   0,   4,   0,   0,   0,\n",
       "          0,   0,   0,   0,   0,   0,   0,   0,   0,   0,   0,   0],\n",
       "       [317, 133,  15,  83,  91,  21, 680, 113,  50,  18,  19,   0,   0,\n",
       "          0,   0,   0,   0,   0,   0,   0,   0,   0,   0,   0,   0],\n",
       "       [ 20,  15,   0,   3,   2,   2,  20,   0,   0,   0,   3,  72,   0,\n",
       "          0,   0,   0,   0,   0,   0,   0,   0,   0,   0,   0,   0],\n",
       "       [ 84,  83,   0,  31,  32,   3, 108,  43,  15,  11,   9, 104,   4,\n",
       "          0,   0,   0,   0,   0,   0,   0,   0,   0,   0,   0,   0],\n",
       "       [203, 210,  12,  63,  89,   2, 198, 105,  28,  25,   9, 233,   7,\n",
       "         86,   0,   0,   0,   0,   0,   0,   0,   0,   0,   0,   0],\n",
       "       [ 95,  86,   9,  44,  34,   3, 123,  51,  16,   8,   4,  95,   6,\n",
       "         57, 105,   0,   0,   0,   0,   0,   0,   0,   0,   0,   0],\n",
       "       [225, 178,   0,  79, 110,  58, 717, 116,  37, 117, 147, 501,  32,\n",
       "        125, 245, 112,   0,   0,   0,   0,   0,   0,   0,   0,   0],\n",
       "       [ 35,  26,   5,  13,  21,   1,  80,  38,  11,   0,   0,  47,   0,\n",
       "          1,  37,  19,   0,   0,   0,   0,   0,   0,   0,   0,   0],\n",
       "       [167, 199,  11,  57,  67,   0, 196,  79,  22,  12,   6, 178,   2,\n",
       "         76, 233, 101, 217,  21,   0,   0,   0,   0,   0,   0,   0],\n",
       "       [220, 186,  16,  74,  77,   9, 382, 117,  31,  14,  37, 800,  37,\n",
       "        124, 223, 115, 533,  48, 184,   0,   0,   0,   0,   0,   0],\n",
       "       [179, 146,  10,  57,  62,   4, 232,  83,  16,   9,   6, 194,  19,\n",
       "         77, 154,  84, 204,  25, 150, 202,   0,   0,   0,   0,   0],\n",
       "       [ 57,  11,   0,   5,   7,   4,  25,  23,  14,   0,   0,  35,   0,\n",
       "          4,  30,  13,   0,  14,  23,  14,  13,   0,   0,   0,   0],\n",
       "       [ 74,  33,   0,  29,  23,   5, 143,  41,  14,   7,   2, 130,   5,\n",
       "        105,  67,  33, 217,   5,  66, 134,  56,  13,   0,   0,   0],\n",
       "       [131,  76,  11,  43,  32,   2, 165,  50,   8,   4,   1, 149,   8,\n",
       "         46,  92,  60, 178,  21,  97, 120, 171,  11,  53,   0,   0],\n",
       "       [ 39,  42,   3,  26,  32,   2,  74,  17,  20,   8,   8,  73,   0,\n",
       "         36,  56,  23, 124,  17,  51,  70,  29,  10,  32,  25,   0]],\n",
       "      dtype=int64)"
      ]
     },
     "execution_count": 21,
     "metadata": {},
     "output_type": "execute_result"
    }
   ],
   "source": [
    "np.tril(pairValues, k=-1)"
   ]
  },
  {
   "cell_type": "markdown",
   "metadata": {},
   "source": [
    "Giving us"
   ]
  },
  {
   "cell_type": "code",
   "execution_count": 22,
   "metadata": {
    "collapsed": true
   },
   "outputs": [],
   "source": [
    "def shared_scene_matrix(castByScene):\n",
    "    '''\n",
    "    Pairwise number of shared scenes by character,\n",
    "    trimmed to a lower-triangular matrix\n",
    "    '''\n",
    "    pairs = {char:None for char in castByScene}\n",
    "\n",
    "    for char in castByScene:\n",
    "        pairs[char] = castByScene[castByScene[char] > 0].sum()\n",
    "        \n",
    "    pairValues = pd.DataFrame(pairs)\n",
    "    return np.tril(pairValues, k=-1)"
   ]
  },
  {
   "cell_type": "markdown",
   "metadata": {},
   "source": [
    "## And then we can plot it with"
   ]
  },
  {
   "cell_type": "code",
   "execution_count": 23,
   "metadata": {
    "collapsed": true
   },
   "outputs": [],
   "source": [
    "def pairwise_scene_plot(scenePairs):\n",
    "    fig, ax = plt.subplots(figsize=(18, 10))\n",
    "\n",
    "    scenePairs = shared_scene_matrix(castByScene)\n",
    "\n",
    "    im = ax.imshow(scenePairs, cmap='jet')\n",
    "    ax.figure.colorbar(im)\n",
    "\n",
    "    _ = ax.set_xticks(np.arange(len(pairs)))\n",
    "    _ = ax.set_yticks(np.arange(len(pairs)))\n",
    "\n",
    "    _ = ax.set_xticklabels(pairs, rotation=45, ha='right')\n",
    "    _ = ax.set_yticklabels(pairs)\n",
    "\n",
    "    _ = ax.set_title('Number of Scenes Shared, by Character', size=20)\n",
    "\n",
    "    return ax"
   ]
  },
  {
   "cell_type": "code",
   "execution_count": 24,
   "metadata": {
    "scrolled": false
   },
   "outputs": [
    {
     "data": {
      "image/png": "[encoded data removed]",
      "text/plain": [
       "<matplotlib.figure.Figure at 0x1208cc18>"
      ]
     },
     "metadata": {},
     "output_type": "display_data"
    }
   ],
   "source": [
    "fig, ax = plt.subplots(figsize=(18, 10))\n",
    "\n",
    "scenePairs = shared_scene_matrix(castByScene)\n",
    "\n",
    "im = ax.imshow(scenePairs, cmap='jet')\n",
    "ax.figure.colorbar(im)\n",
    "\n",
    "_ = ax.set_xticks(np.arange(len(pairs)))\n",
    "_ = ax.set_yticks(np.arange(len(pairs)))\n",
    "\n",
    "_ = ax.set_xticklabels(pairs, rotation=45, ha='right')\n",
    "_ = ax.set_yticklabels(pairs)\n",
    "\n",
    "_ = ax.set_title('Number of Scenes Shared, by Character', size=20)"
   ]
  },
  {
   "cell_type": "markdown",
   "metadata": {},
   "source": [
    "#  The Text"
   ]
  },
  {
   "cell_type": "markdown",
   "metadata": {},
   "source": [
    "### Who Swears the most?"
   ]
  },
  {
   "cell_type": "code",
   "execution_count": 25,
   "metadata": {},
   "outputs": [
    {
     "data": {
      "text/plain": [
       "kevin       2\n",
       "michael     2\n",
       "deangelo    1\n",
       "kelly       1\n",
       "phyllis     1\n",
       "brandon     1\n",
       "jo          1\n",
       "pam         1\n",
       "andy        1\n",
       "ryan        1\n",
       "robert      1\n",
       "darryl      1\n",
       "toby        1\n",
       "oscar       1\n",
       "Name: speaker, dtype: int64"
      ]
     },
     "execution_count": 25,
     "metadata": {},
     "output_type": "execute_result"
    }
   ],
   "source": [
    "line_search('\\*')['speaker'].value_counts()"
   ]
  },
  {
   "cell_type": "markdown",
   "metadata": {},
   "source": [
    "## Who sets Michael up the most?"
   ]
  },
  {
   "cell_type": "code",
   "execution_count": 26,
   "metadata": {
    "scrolled": true
   },
   "outputs": [
    {
     "data": {
      "text/plain": [
       "michael         11\n",
       "jim              5\n",
       "lester           4\n",
       "dwight           2\n",
       "jan              2\n",
       "darryl           1\n",
       "gabe             1\n",
       "holly            1\n",
       "andy             1\n",
       "pam              1\n",
       "david            1\n",
       "clark            1\n",
       "doctor           1\n",
       "second cindy     1\n",
       "kelly            1\n",
       "phyllis          1\n",
       "kevin            1\n",
       "angela           1\n",
       "Name: speaker, dtype: int64"
      ]
     },
     "execution_count": 26,
     "metadata": {},
     "output_type": "execute_result"
    }
   ],
   "source": [
    "df.loc[line_search('what she said').index - 1]['speaker'].value_counts()"
   ]
  },
  {
   "cell_type": "markdown",
   "metadata": {},
   "source": [
    "Who's Lester?"
   ]
  },
  {
   "cell_type": "code",
   "execution_count": 27,
   "metadata": {
    "scrolled": true
   },
   "outputs": [
    {
     "data": {
      "text/html": [
       "<div>\n",
       "<style scoped>\n",
       "    .dataframe tbody tr th:only-of-type {\n",
       "        vertical-align: middle;\n",
       "    }\n",
       "\n",
       "    .dataframe tbody tr th {\n",
       "        vertical-align: top;\n",
       "    }\n",
       "\n",
       "    .dataframe thead th {\n",
       "        text-align: right;\n",
       "    }\n",
       "</style>\n",
       "<table border=\"1\" class=\"dataframe\">\n",
       "  <thead>\n",
       "    <tr style=\"text-align: right;\">\n",
       "      <th></th>\n",
       "      <th>id</th>\n",
       "      <th>season</th>\n",
       "      <th>episode</th>\n",
       "      <th>scene</th>\n",
       "      <th>line_text</th>\n",
       "      <th>speaker</th>\n",
       "    </tr>\n",
       "  </thead>\n",
       "  <tbody>\n",
       "    <tr>\n",
       "      <th>18332</th>\n",
       "      <td>20269</td>\n",
       "      <td>4</td>\n",
       "      <td>8</td>\n",
       "      <td>23</td>\n",
       "      <td>And you were directly under her the entire time?</td>\n",
       "      <td>lester</td>\n",
       "    </tr>\n",
       "    <tr>\n",
       "      <th>18334</th>\n",
       "      <td>20271</td>\n",
       "      <td>4</td>\n",
       "      <td>8</td>\n",
       "      <td>23</td>\n",
       "      <td>Excuse me?</td>\n",
       "      <td>lester</td>\n",
       "    </tr>\n",
       "    <tr>\n",
       "      <th>18340</th>\n",
       "      <td>20277</td>\n",
       "      <td>4</td>\n",
       "      <td>8</td>\n",
       "      <td>23</td>\n",
       "      <td>With all due respect, I'm in the middle of a l...</td>\n",
       "      <td>lester</td>\n",
       "    </tr>\n",
       "    <tr>\n",
       "      <th>18345</th>\n",
       "      <td>20282</td>\n",
       "      <td>4</td>\n",
       "      <td>8</td>\n",
       "      <td>23</td>\n",
       "      <td>Can you go back to where this digression began?</td>\n",
       "      <td>lester</td>\n",
       "    </tr>\n",
       "  </tbody>\n",
       "</table>\n",
       "</div>"
      ],
      "text/plain": [
       "          id  season  episode  scene  \\\n",
       "18332  20269       4        8     23   \n",
       "18334  20271       4        8     23   \n",
       "18340  20277       4        8     23   \n",
       "18345  20282       4        8     23   \n",
       "\n",
       "                                               line_text speaker  \n",
       "18332   And you were directly under her the entire time?  lester  \n",
       "18334                                         Excuse me?  lester  \n",
       "18340  With all due respect, I'm in the middle of a l...  lester  \n",
       "18345    Can you go back to where this digression began?  lester  "
      ]
     },
     "execution_count": 27,
     "metadata": {},
     "output_type": "execute_result"
    }
   ],
   "source": [
    "setups = df.loc[line_search('what she said').index - 1]\n",
    "setups[setups['speaker'] == 'lester']"
   ]
  },
  {
   "cell_type": "code",
   "execution_count": 28,
   "metadata": {
    "scrolled": true
   },
   "outputs": [
    {
     "data": {
      "text/html": [
       "<div>\n",
       "<style scoped>\n",
       "    .dataframe tbody tr th:only-of-type {\n",
       "        vertical-align: middle;\n",
       "    }\n",
       "\n",
       "    .dataframe tbody tr th {\n",
       "        vertical-align: top;\n",
       "    }\n",
       "\n",
       "    .dataframe thead th {\n",
       "        text-align: right;\n",
       "    }\n",
       "</style>\n",
       "<table border=\"1\" class=\"dataframe\">\n",
       "  <thead>\n",
       "    <tr style=\"text-align: right;\">\n",
       "      <th></th>\n",
       "      <th>id</th>\n",
       "      <th>season</th>\n",
       "      <th>episode</th>\n",
       "      <th>scene</th>\n",
       "      <th>line_text</th>\n",
       "      <th>speaker</th>\n",
       "    </tr>\n",
       "  </thead>\n",
       "  <tbody>\n",
       "    <tr>\n",
       "      <th>18328</th>\n",
       "      <td>20265</td>\n",
       "      <td>4</td>\n",
       "      <td>8</td>\n",
       "      <td>23</td>\n",
       "      <td>How long have you known the plaintiff?</td>\n",
       "      <td>lester</td>\n",
       "    </tr>\n",
       "    <tr>\n",
       "      <th>18329</th>\n",
       "      <td>20266</td>\n",
       "      <td>4</td>\n",
       "      <td>8</td>\n",
       "      <td>23</td>\n",
       "      <td>I haven't actually seen it. But I have seen th...</td>\n",
       "      <td>michael</td>\n",
       "    </tr>\n",
       "    <tr>\n",
       "      <th>18330</th>\n",
       "      <td>20267</td>\n",
       "      <td>4</td>\n",
       "      <td>8</td>\n",
       "      <td>23</td>\n",
       "      <td>How long have you known Ms. Levinson?</td>\n",
       "      <td>lester</td>\n",
       "    </tr>\n",
       "    <tr>\n",
       "      <th>18331</th>\n",
       "      <td>20268</td>\n",
       "      <td>4</td>\n",
       "      <td>8</td>\n",
       "      <td>23</td>\n",
       "      <td>Six years and two months.</td>\n",
       "      <td>michael</td>\n",
       "    </tr>\n",
       "    <tr>\n",
       "      <th>18332</th>\n",
       "      <td>20269</td>\n",
       "      <td>4</td>\n",
       "      <td>8</td>\n",
       "      <td>23</td>\n",
       "      <td>And you were directly under her the entire time?</td>\n",
       "      <td>lester</td>\n",
       "    </tr>\n",
       "    <tr>\n",
       "      <th>18333</th>\n",
       "      <td>20270</td>\n",
       "      <td>4</td>\n",
       "      <td>8</td>\n",
       "      <td>23</td>\n",
       "      <td>That's what she said.</td>\n",
       "      <td>michael</td>\n",
       "    </tr>\n",
       "    <tr>\n",
       "      <th>18334</th>\n",
       "      <td>20271</td>\n",
       "      <td>4</td>\n",
       "      <td>8</td>\n",
       "      <td>23</td>\n",
       "      <td>Excuse me?</td>\n",
       "      <td>lester</td>\n",
       "    </tr>\n",
       "    <tr>\n",
       "      <th>18335</th>\n",
       "      <td>20272</td>\n",
       "      <td>4</td>\n",
       "      <td>8</td>\n",
       "      <td>23</td>\n",
       "      <td>That's what she said.</td>\n",
       "      <td>michael</td>\n",
       "    </tr>\n",
       "    <tr>\n",
       "      <th>18336</th>\n",
       "      <td>20273</td>\n",
       "      <td>4</td>\n",
       "      <td>8</td>\n",
       "      <td>23</td>\n",
       "      <td>Ms. Levinson told you she was your direct supe...</td>\n",
       "      <td>lester</td>\n",
       "    </tr>\n",
       "    <tr>\n",
       "      <th>18337</th>\n",
       "      <td>20274</td>\n",
       "      <td>4</td>\n",
       "      <td>8</td>\n",
       "      <td>23</td>\n",
       "      <td>Uh, wh-why would she say that?</td>\n",
       "      <td>michael</td>\n",
       "    </tr>\n",
       "    <tr>\n",
       "      <th>18338</th>\n",
       "      <td>20275</td>\n",
       "      <td>4</td>\n",
       "      <td>8</td>\n",
       "      <td>23</td>\n",
       "      <td>Can we just move on to another question?</td>\n",
       "      <td>jan</td>\n",
       "    </tr>\n",
       "    <tr>\n",
       "      <th>18339</th>\n",
       "      <td>20276</td>\n",
       "      <td>4</td>\n",
       "      <td>8</td>\n",
       "      <td>23</td>\n",
       "      <td>No wait, I don't understand. Who's on record o...</td>\n",
       "      <td>diane</td>\n",
       "    </tr>\n",
       "    <tr>\n",
       "      <th>18340</th>\n",
       "      <td>20277</td>\n",
       "      <td>4</td>\n",
       "      <td>8</td>\n",
       "      <td>23</td>\n",
       "      <td>With all due respect, I'm in the middle of a l...</td>\n",
       "      <td>lester</td>\n",
       "    </tr>\n",
       "    <tr>\n",
       "      <th>18341</th>\n",
       "      <td>20278</td>\n",
       "      <td>4</td>\n",
       "      <td>8</td>\n",
       "      <td>23</td>\n",
       "      <td>Come again? That's what she said? I don't know...</td>\n",
       "      <td>michael</td>\n",
       "    </tr>\n",
       "    <tr>\n",
       "      <th>18342</th>\n",
       "      <td>20279</td>\n",
       "      <td>4</td>\n",
       "      <td>8</td>\n",
       "      <td>23</td>\n",
       "      <td>Okay, if I may, he was just telling a joke bef...</td>\n",
       "      <td>jan</td>\n",
       "    </tr>\n",
       "    <tr>\n",
       "      <th>18343</th>\n",
       "      <td>20280</td>\n",
       "      <td>4</td>\n",
       "      <td>8</td>\n",
       "      <td>23</td>\n",
       "      <td>Oh, are you sure?</td>\n",
       "      <td>lester</td>\n",
       "    </tr>\n",
       "    <tr>\n",
       "      <th>18344</th>\n",
       "      <td>20281</td>\n",
       "      <td>4</td>\n",
       "      <td>8</td>\n",
       "      <td>23</td>\n",
       "      <td>Uh, yes.</td>\n",
       "      <td>jan</td>\n",
       "    </tr>\n",
       "    <tr>\n",
       "      <th>18345</th>\n",
       "      <td>20282</td>\n",
       "      <td>4</td>\n",
       "      <td>8</td>\n",
       "      <td>23</td>\n",
       "      <td>Can you go back to where this digression began?</td>\n",
       "      <td>lester</td>\n",
       "    </tr>\n",
       "    <tr>\n",
       "      <th>18346</th>\n",
       "      <td>20283</td>\n",
       "      <td>4</td>\n",
       "      <td>8</td>\n",
       "      <td>23</td>\n",
       "      <td>[reading off paper] Mr. Schneider And you were...</td>\n",
       "      <td>deposition reporter</td>\n",
       "    </tr>\n",
       "    <tr>\n",
       "      <th>18347</th>\n",
       "      <td>20284</td>\n",
       "      <td>4</td>\n",
       "      <td>8</td>\n",
       "      <td>23</td>\n",
       "      <td>Well, delivery is all wrong. She's butchering it.</td>\n",
       "      <td>michael</td>\n",
       "    </tr>\n",
       "  </tbody>\n",
       "</table>\n",
       "</div>"
      ],
      "text/plain": [
       "          id  season  episode  scene  \\\n",
       "18328  20265       4        8     23   \n",
       "18329  20266       4        8     23   \n",
       "18330  20267       4        8     23   \n",
       "18331  20268       4        8     23   \n",
       "18332  20269       4        8     23   \n",
       "18333  20270       4        8     23   \n",
       "18334  20271       4        8     23   \n",
       "18335  20272       4        8     23   \n",
       "18336  20273       4        8     23   \n",
       "18337  20274       4        8     23   \n",
       "18338  20275       4        8     23   \n",
       "18339  20276       4        8     23   \n",
       "18340  20277       4        8     23   \n",
       "18341  20278       4        8     23   \n",
       "18342  20279       4        8     23   \n",
       "18343  20280       4        8     23   \n",
       "18344  20281       4        8     23   \n",
       "18345  20282       4        8     23   \n",
       "18346  20283       4        8     23   \n",
       "18347  20284       4        8     23   \n",
       "\n",
       "                                               line_text              speaker  \n",
       "18328             How long have you known the plaintiff?               lester  \n",
       "18329  I haven't actually seen it. But I have seen th...              michael  \n",
       "18330              How long have you known Ms. Levinson?               lester  \n",
       "18331                          Six years and two months.              michael  \n",
       "18332   And you were directly under her the entire time?               lester  \n",
       "18333                              That's what she said.              michael  \n",
       "18334                                         Excuse me?               lester  \n",
       "18335                              That's what she said.              michael  \n",
       "18336  Ms. Levinson told you she was your direct supe...               lester  \n",
       "18337                     Uh, wh-why would she say that?              michael  \n",
       "18338           Can we just move on to another question?                  jan  \n",
       "18339  No wait, I don't understand. Who's on record o...                diane  \n",
       "18340  With all due respect, I'm in the middle of a l...               lester  \n",
       "18341  Come again? That's what she said? I don't know...              michael  \n",
       "18342  Okay, if I may, he was just telling a joke bef...                  jan  \n",
       "18343                                  Oh, are you sure?               lester  \n",
       "18344                                           Uh, yes.                  jan  \n",
       "18345    Can you go back to where this digression began?               lester  \n",
       "18346  [reading off paper] Mr. Schneider And you were...  deposition reporter  \n",
       "18347  Well, delivery is all wrong. She's butchering it.              michael  "
      ]
     },
     "execution_count": 28,
     "metadata": {},
     "output_type": "execute_result"
    }
   ],
   "source": [
    "get_dialogue(4, 8, 23)"
   ]
  },
  {
   "cell_type": "markdown",
   "metadata": {},
   "source": [
    "### Michael and Toby"
   ]
  },
  {
   "cell_type": "markdown",
   "metadata": {},
   "source": [
    "Michael hates Toby. It'd be interesting to zero in on words he uses after Toby speaks."
   ]
  },
  {
   "cell_type": "code",
   "execution_count": 29,
   "metadata": {
    "collapsed": true,
    "scrolled": false
   },
   "outputs": [],
   "source": [
    "mnt = df[df['speaker'].isin(['michael', 'toby'])]\n",
    "sample = mnt.iloc[3510:3520]"
   ]
  },
  {
   "cell_type": "markdown",
   "metadata": {},
   "source": [
    "We expect each of Michael's lines in scene 19 to evaluate to True"
   ]
  },
  {
   "cell_type": "code",
   "execution_count": 30,
   "metadata": {
    "scrolled": false
   },
   "outputs": [
    {
     "data": {
      "text/html": [
       "<div>\n",
       "<style scoped>\n",
       "    .dataframe tbody tr th:only-of-type {\n",
       "        vertical-align: middle;\n",
       "    }\n",
       "\n",
       "    .dataframe tbody tr th {\n",
       "        vertical-align: top;\n",
       "    }\n",
       "\n",
       "    .dataframe thead th {\n",
       "        text-align: right;\n",
       "    }\n",
       "</style>\n",
       "<table border=\"1\" class=\"dataframe\">\n",
       "  <thead>\n",
       "    <tr style=\"text-align: right;\">\n",
       "      <th></th>\n",
       "      <th>id</th>\n",
       "      <th>season</th>\n",
       "      <th>episode</th>\n",
       "      <th>scene</th>\n",
       "      <th>line_text</th>\n",
       "      <th>speaker</th>\n",
       "    </tr>\n",
       "  </thead>\n",
       "  <tbody>\n",
       "    <tr>\n",
       "      <th>10977</th>\n",
       "      <td>12879</td>\n",
       "      <td>3</td>\n",
       "      <td>11</td>\n",
       "      <td>15</td>\n",
       "      <td>I have a special assignment for you.</td>\n",
       "      <td>michael</td>\n",
       "    </tr>\n",
       "    <tr>\n",
       "      <th>10979</th>\n",
       "      <td>12881</td>\n",
       "      <td>3</td>\n",
       "      <td>11</td>\n",
       "      <td>15</td>\n",
       "      <td>A sensitive email has been released to the off...</td>\n",
       "      <td>michael</td>\n",
       "    </tr>\n",
       "    <tr>\n",
       "      <th>10981</th>\n",
       "      <td>12883</td>\n",
       "      <td>3</td>\n",
       "      <td>11</td>\n",
       "      <td>15</td>\n",
       "      <td>Not important.</td>\n",
       "      <td>michael</td>\n",
       "    </tr>\n",
       "    <tr>\n",
       "      <th>10983</th>\n",
       "      <td>12885</td>\n",
       "      <td>3</td>\n",
       "      <td>11</td>\n",
       "      <td>15</td>\n",
       "      <td>OK, forget it.</td>\n",
       "      <td>michael</td>\n",
       "    </tr>\n",
       "    <tr>\n",
       "      <th>10995</th>\n",
       "      <td>12897</td>\n",
       "      <td>3</td>\n",
       "      <td>11</td>\n",
       "      <td>19</td>\n",
       "      <td>Hey I need to talk to you right now.</td>\n",
       "      <td>toby</td>\n",
       "    </tr>\n",
       "    <tr>\n",
       "      <th>10996</th>\n",
       "      <td>12898</td>\n",
       "      <td>3</td>\n",
       "      <td>11</td>\n",
       "      <td>19</td>\n",
       "      <td>Not now, not ever.</td>\n",
       "      <td>michael</td>\n",
       "    </tr>\n",
       "    <tr>\n",
       "      <th>10997</th>\n",
       "      <td>12899</td>\n",
       "      <td>3</td>\n",
       "      <td>11</td>\n",
       "      <td>19</td>\n",
       "      <td>About you and Jan.</td>\n",
       "      <td>toby</td>\n",
       "    </tr>\n",
       "    <tr>\n",
       "      <th>10998</th>\n",
       "      <td>12900</td>\n",
       "      <td>3</td>\n",
       "      <td>11</td>\n",
       "      <td>19</td>\n",
       "      <td>Aww, none of your business.</td>\n",
       "      <td>michael</td>\n",
       "    </tr>\n",
       "    <tr>\n",
       "      <th>10999</th>\n",
       "      <td>12901</td>\n",
       "      <td>3</td>\n",
       "      <td>11</td>\n",
       "      <td>19</td>\n",
       "      <td>Wish it were true, but it, it uh, seems from t...</td>\n",
       "      <td>toby</td>\n",
       "    </tr>\n",
       "    <tr>\n",
       "      <th>11000</th>\n",
       "      <td>12902</td>\n",
       "      <td>3</td>\n",
       "      <td>11</td>\n",
       "      <td>19</td>\n",
       "      <td>That photo is my personal property and if you ...</td>\n",
       "      <td>michael</td>\n",
       "    </tr>\n",
       "  </tbody>\n",
       "</table>\n",
       "</div>"
      ],
      "text/plain": [
       "          id  season  episode  scene  \\\n",
       "10977  12879       3       11     15   \n",
       "10979  12881       3       11     15   \n",
       "10981  12883       3       11     15   \n",
       "10983  12885       3       11     15   \n",
       "10995  12897       3       11     19   \n",
       "10996  12898       3       11     19   \n",
       "10997  12899       3       11     19   \n",
       "10998  12900       3       11     19   \n",
       "10999  12901       3       11     19   \n",
       "11000  12902       3       11     19   \n",
       "\n",
       "                                               line_text  speaker  \n",
       "10977               I have a special assignment for you.  michael  \n",
       "10979  A sensitive email has been released to the off...  michael  \n",
       "10981                                     Not important.  michael  \n",
       "10983                                     OK, forget it.  michael  \n",
       "10995               Hey I need to talk to you right now.     toby  \n",
       "10996                                 Not now, not ever.  michael  \n",
       "10997                                 About you and Jan.     toby  \n",
       "10998                        Aww, none of your business.  michael  \n",
       "10999  Wish it were true, but it, it uh, seems from t...     toby  \n",
       "11000  That photo is my personal property and if you ...  michael  "
      ]
     },
     "execution_count": 30,
     "metadata": {},
     "output_type": "execute_result"
    }
   ],
   "source": [
    "sample"
   ]
  },
  {
   "cell_type": "code",
   "execution_count": 31,
   "metadata": {},
   "outputs": [
    {
     "data": {
      "text/plain": [
       "10977        NaN\n",
       "10979    michael\n",
       "10981    michael\n",
       "10983    michael\n",
       "10995    michael\n",
       "10996       toby\n",
       "10997    michael\n",
       "10998       toby\n",
       "10999    michael\n",
       "11000       toby\n",
       "Name: speaker, dtype: object"
      ]
     },
     "execution_count": 31,
     "metadata": {},
     "output_type": "execute_result"
    }
   ],
   "source": [
    "sample['speaker'].shift(1)"
   ]
  },
  {
   "cell_type": "code",
   "execution_count": 32,
   "metadata": {},
   "outputs": [
    {
     "data": {
      "text/plain": [
       "10977    False\n",
       "10979    False\n",
       "10981    False\n",
       "10983    False\n",
       "10995    False\n",
       "10996     True\n",
       "10997    False\n",
       "10998     True\n",
       "10999    False\n",
       "11000     True\n",
       "Name: speaker, dtype: bool"
      ]
     },
     "execution_count": 32,
     "metadata": {},
     "output_type": "execute_result"
    }
   ],
   "source": [
    "def _within_two_lines(col, personA, personB):\n",
    "    ''' Within 2 lines '''\n",
    "\n",
    "    a = col == personA\n",
    "    b = col.shift(1) == personB\n",
    "    c = col.shift(2) == personB\n",
    "\n",
    "    return a & (b | c)\n",
    "\n",
    "sample.groupby(['season', 'episode'])['speaker'].transform(lambda x: _within_two_lines(x, 'michael', 'toby'))"
   ]
  },
  {
   "cell_type": "code",
   "execution_count": 33,
   "metadata": {},
   "outputs": [
    {
     "data": {
      "text/plain": [
       "10977    False\n",
       "10979    False\n",
       "10981     True\n",
       "10983     True\n",
       "10995    False\n",
       "10996    False\n",
       "10997     True\n",
       "10998     True\n",
       "10999     True\n",
       "11000     True\n",
       "Name: scene, dtype: bool"
      ]
     },
     "execution_count": 33,
     "metadata": {},
     "output_type": "execute_result"
    }
   ],
   "source": [
    "def _within_two_scenes(col):\n",
    "    return (col - col.shift(2)) < 2\n",
    "\n",
    "sample.groupby(['season', 'episode'])['scene'].transform(_within_two_scenes)"
   ]
  },
  {
   "cell_type": "code",
   "execution_count": 34,
   "metadata": {
    "collapsed": true
   },
   "outputs": [],
   "source": [
    "def a_spoke_after_b(df, personA, personB):\n",
    "    sameScene = (df.groupby(['season', 'episode'])['scene']\n",
    "                   .transform(_within_two_scenes))\n",
    "    aAfterB = (df.groupby(['season', 'episode'])['speaker']\n",
    "                 .transform(lambda x: _within_two_lines(x, personA, personB)))\n",
    "\n",
    "    return (sameScene & aAfterB)"
   ]
  },
  {
   "cell_type": "code",
   "execution_count": 35,
   "metadata": {},
   "outputs": [
    {
     "data": {
      "text/plain": [
       "10977    False\n",
       "10979    False\n",
       "10981    False\n",
       "10983    False\n",
       "10995    False\n",
       "10996    False\n",
       "10997    False\n",
       "10998     True\n",
       "10999    False\n",
       "11000     True\n",
       "dtype: bool"
      ]
     },
     "execution_count": 35,
     "metadata": {},
     "output_type": "execute_result"
    }
   ],
   "source": [
    "a_spoke_after_b(sample, 'michael', 'toby')"
   ]
  },
  {
   "cell_type": "markdown",
   "metadata": {},
   "source": [
    "#### And some NLTK utilities to ease the cleaning"
   ]
  },
  {
   "cell_type": "code",
   "execution_count": 36,
   "metadata": {
    "collapsed": true
   },
   "outputs": [],
   "source": [
    "def _clean_word(word):\n",
    "    return ''.join(re.findall('[a-z\\s]', word.lower().strip()))"
   ]
  },
  {
   "cell_type": "code",
   "execution_count": 37,
   "metadata": {
    "collapsed": true
   },
   "outputs": [],
   "source": [
    "from nltk.corpus import stopwords\n",
    "\n",
    "stopWords = [_clean_word(x) for x in stopwords.words('english')]"
   ]
  },
  {
   "cell_type": "code",
   "execution_count": 38,
   "metadata": {
    "collapsed": true
   },
   "outputs": [],
   "source": [
    "def extract_corpus(df):\n",
    "    joinedText = ' '.join(df['line_text'].values)\n",
    "    \n",
    "    eachWord = joinedText.split()\n",
    "    eachWord = [_clean_word(x) for x in eachWord]\n",
    "    \n",
    "    stopWords = [_clean_word(x) for x in stopwords.words('english')]\n",
    "    \n",
    "    return [word for word in eachWord\n",
    "            if word not in stopWords]"
   ]
  },
  {
   "cell_type": "code",
   "execution_count": 39,
   "metadata": {},
   "outputs": [
    {
     "name": "stdout",
     "output_type": "stream",
     "text": [
      "['aww', 'none', 'business', 'photo', 'personal', 'property', 'telling', 'went', 'computer', 'stole', 'photo', 'going', 'call', 'cops']\n"
     ]
    }
   ],
   "source": [
    "michaelCorpus = extract_corpus(sample[a_spoke_after_b(sample, 'michael', 'toby')])\n",
    "print(michaelCorpus)"
   ]
  },
  {
   "cell_type": "code",
   "execution_count": null,
   "metadata": {
    "collapsed": true
   },
   "outputs": [],
   "source": []
  }
 ],
 "metadata": {
  "kernelspec": {
   "display_name": "Python 3",
   "language": "python",
   "name": "python3"
  },
  "language_info": {
   "codemirror_mode": {
    "name": "ipython",
    "version": 3
   },
   "file_extension": ".py",
   "mimetype": "text/x-python",
   "name": "python",
   "nbconvert_exporter": "python",
   "pygments_lexer": "ipython3",
   "version": "3.6.3"
  }
 },
 "nbformat": 4,
 "nbformat_minor": 2
}
